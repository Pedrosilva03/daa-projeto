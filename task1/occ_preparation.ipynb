{
 "cells": [
  {
   "cell_type": "markdown",
   "id": "16da4a84-65bc-42be-920e-b9d5e65d5486",
   "metadata": {
    "editable": true,
    "slideshow": {
     "slide_type": ""
    },
    "tags": []
   },
   "source": [
    "# Tarefa 1 - Preparação do Dataset do Occipital Lobe"
   ]
  },
  {
   "cell_type": "code",
   "execution_count": 1,
   "id": "1d977f1a-61c6-4230-a1cd-f84c558fc71f",
   "metadata": {
    "editable": true,
    "scrolled": true,
    "slideshow": {
     "slide_type": ""
    },
    "tags": []
   },
   "outputs": [
    {
     "name": "stdout",
     "output_type": "stream",
     "text": [
      "Requirement already satisfied: researchpy in /home/dbarr0s/miniconda3/envs/DAA/lib/python3.12/site-packages (0.3.6)\n",
      "Requirement already satisfied: scipy in /home/dbarr0s/miniconda3/envs/DAA/lib/python3.12/site-packages (from researchpy) (1.13.1)\n",
      "Requirement already satisfied: numpy in /home/dbarr0s/miniconda3/envs/DAA/lib/python3.12/site-packages (from researchpy) (1.26.4)\n",
      "Requirement already satisfied: pandas in /home/dbarr0s/miniconda3/envs/DAA/lib/python3.12/site-packages (from researchpy) (2.2.2)\n",
      "Requirement already satisfied: statsmodels in /home/dbarr0s/miniconda3/envs/DAA/lib/python3.12/site-packages (from researchpy) (0.14.4)\n",
      "Requirement already satisfied: patsy in /home/dbarr0s/miniconda3/envs/DAA/lib/python3.12/site-packages (from researchpy) (0.5.6)\n",
      "Requirement already satisfied: python-dateutil>=2.8.2 in /home/dbarr0s/miniconda3/envs/DAA/lib/python3.12/site-packages (from pandas->researchpy) (2.9.0.post0)\n",
      "Requirement already satisfied: pytz>=2020.1 in /home/dbarr0s/miniconda3/envs/DAA/lib/python3.12/site-packages (from pandas->researchpy) (2024.1)\n",
      "Requirement already satisfied: tzdata>=2022.7 in /home/dbarr0s/miniconda3/envs/DAA/lib/python3.12/site-packages (from pandas->researchpy) (2023.3)\n",
      "Requirement already satisfied: six in /home/dbarr0s/miniconda3/envs/DAA/lib/python3.12/site-packages (from patsy->researchpy) (1.16.0)\n",
      "Requirement already satisfied: packaging>=21.3 in /home/dbarr0s/miniconda3/envs/DAA/lib/python3.12/site-packages (from statsmodels->researchpy) (24.1)\n"
     ]
    }
   ],
   "source": [
    "! pip install researchpy"
   ]
  },
  {
   "cell_type": "code",
   "execution_count": 2,
   "id": "19f15cd8-3e03-4183-9744-e8c7d3303eb2",
   "metadata": {},
   "outputs": [],
   "source": [
    "import os\n",
    "import random\n",
    "import pandas as pd\n",
    "import sklearn as np\n",
    "import numpy as np\n",
    "import matplotlib.pyplot as plt\n",
    "import seaborn as sns\n",
    "from sklearn.preprocessing import MinMaxScaler"
   ]
  },
  {
   "cell_type": "code",
   "execution_count": 3,
   "id": "5c93341f-df75-462c-a4b6-29eb06c0e851",
   "metadata": {},
   "outputs": [],
   "source": [
    "def set_seed(seed: int):\n",
    "    random.seed(seed) # Python\n",
    "    np.random.seed(seed)  # Numpy, é o gerador utilizado pelo sklearn\n",
    "    os.environ[\"PYTHONHASHSEED\"] = str(seed)  # sistema operativo\n",
    "\n",
    "# Fixar a seed\n",
    "set_seed(2023)"
   ]
  },
  {
   "cell_type": "code",
   "execution_count": 4,
   "id": "efc12f5f-383f-4795-9983-6c272af52685",
   "metadata": {},
   "outputs": [],
   "source": [
    "df_treino = pd.read_csv('./datasets/train_radiomics_occipital_CONTROL.csv')\n",
    "pd.options.display.max_columns = None"
   ]
  },
  {
   "cell_type": "code",
   "execution_count": 5,
   "id": "b3b66a66-7452-401b-9bc1-1ca358a1ef04",
   "metadata": {},
   "outputs": [
    {
     "data": {
      "text/plain": [
       "(305, 2181)"
      ]
     },
     "execution_count": 5,
     "metadata": {},
     "output_type": "execute_result"
    }
   ],
   "source": [
    "df_treino.shape"
   ]
  },
  {
   "cell_type": "code",
   "execution_count": 6,
   "id": "e896b624-f733-4161-a71d-d9452f7c9246",
   "metadata": {},
   "outputs": [
    {
     "name": "stdout",
     "output_type": "stream",
     "text": [
      "<class 'pandas.core.frame.DataFrame'>\n",
      "RangeIndex: 305 entries, 0 to 304\n",
      "Columns: 2181 entries, ID to Transition\n",
      "dtypes: float64(2014), int64(147), object(20)\n",
      "memory usage: 5.1+ MB\n"
     ]
    }
   ],
   "source": [
    "df_treino.info()"
   ]
  },
  {
   "cell_type": "markdown",
   "id": "f08f3eed-dd4d-452d-98f3-ae56380ec00b",
   "metadata": {},
   "source": [
    "### Colunas de valor único\n",
    "\n",
    "Quando uma coluna contém o mesmo valor para todas as 305, esta não ajuda a distinguir entre as observações e não contribui para a construção de modelos preditivos, análises estatísticas, ou para entender padrões nos dados. Estas colunas podem ser consideradas redundantes e ocupam espaço desnecessário, o que também pode prejudicar a eficiência computacional ao aumentar o tempo de processamento. Com isto dito, em baixo pesquisamos todas essas colunas e eliminamos essas mesmo:"
   ]
  },
  {
   "cell_type": "code",
   "execution_count": 7,
   "id": "640b165f-4594-47f9-99a3-44fbf0e4e09c",
   "metadata": {},
   "outputs": [
    {
     "name": "stdout",
     "output_type": "stream",
     "text": [
      "Index(['diagnostics_Versions_PyRadiomics', 'diagnostics_Versions_Numpy',\n",
      "       'diagnostics_Versions_SimpleITK', 'diagnostics_Versions_PyWavelet',\n",
      "       'diagnostics_Versions_Python', 'diagnostics_Configuration_Settings',\n",
      "       'diagnostics_Configuration_EnabledImageTypes',\n",
      "       'diagnostics_Image-original_Dimensionality',\n",
      "       'diagnostics_Image-original_Spacing', 'diagnostics_Image-original_Size',\n",
      "       ...\n",
      "       'lbp-3D-m2_glszm_GrayLevelNonUniformityNormalized',\n",
      "       'lbp-3D-m2_glszm_GrayLevelVariance',\n",
      "       'lbp-3D-m2_glszm_HighGrayLevelZoneEmphasis',\n",
      "       'lbp-3D-m2_glszm_LowGrayLevelZoneEmphasis',\n",
      "       'lbp-3D-m2_glszm_SizeZoneNonUniformity', 'lbp-3D-m2_ngtdm_Busyness',\n",
      "       'lbp-3D-m2_ngtdm_Coarseness', 'lbp-3D-m2_ngtdm_Complexity',\n",
      "       'lbp-3D-m2_ngtdm_Contrast', 'lbp-3D-m2_ngtdm_Strength'],\n",
      "      dtype='object', length=147)\n"
     ]
    }
   ],
   "source": [
    "constant_columns_treino = df_treino.columns[df_treino.nunique() == 1]\n",
    "print(constant_columns_treino)"
   ]
  },
  {
   "cell_type": "code",
   "execution_count": 8,
   "id": "cfece79f-b3d2-4775-af53-7d4f6121d9a3",
   "metadata": {},
   "outputs": [],
   "source": [
    "df_treino = df_treino.drop(constant_columns_treino, axis=1)"
   ]
  },
  {
   "cell_type": "code",
   "execution_count": 9,
   "id": "92a8fb4f-afb2-4418-9d95-9125691e344c",
   "metadata": {},
   "outputs": [
    {
     "data": {
      "text/plain": [
       "(305, 2034)"
      ]
     },
     "execution_count": 9,
     "metadata": {},
     "output_type": "execute_result"
    }
   ],
   "source": [
    "df_treino.shape"
   ]
  },
  {
   "cell_type": "code",
   "execution_count": 10,
   "id": "c711d7b5-a539-4a8b-a983-6989fe28285f",
   "metadata": {},
   "outputs": [
    {
     "name": "stdout",
     "output_type": "stream",
     "text": [
      "<class 'pandas.core.frame.DataFrame'>\n",
      "RangeIndex: 305 entries, 0 to 304\n",
      "Columns: 2034 entries, ID to Transition\n",
      "dtypes: float64(2001), int64(24), object(9)\n",
      "memory usage: 4.7+ MB\n"
     ]
    }
   ],
   "source": [
    "df_treino.info()"
   ]
  },
  {
   "cell_type": "markdown",
   "id": "5c82c54f-90a2-49b4-9e33-23f8d5b07c31",
   "metadata": {},
   "source": [
    "Depois de feita a eliminação das colunas redundantes, através dos comando ***shape***, verificamos que eliminamos ***147 colunas redundantes*** do dataset.\n",
    "Com o comando ***info()***, verificamos para o dataset, que dessas 147 colunas, 13 eram do tipo ***float64***, 123 eram do tipo ***int64*** e 11 eram do tipo ***object***."
   ]
  },
  {
   "cell_type": "markdown",
   "id": "fc522a01-d3c7-4a12-a864-3431e120a44e",
   "metadata": {},
   "source": [
    "### Análise de colunas do tipo ***object***\n",
    "\n",
    "Consideramos que as seguintes colunas a eliminar, não apresentam dados necessários para a previsão do atributo-objetivo, ***Transition:***\n",
    "- ***ID:*** porque representa apenas o ID das imagens obtidas.\n",
    "- ***Image e Mask:*** porque representa apenas a localização dos diferentes scans.\n",
    "- ***diagnostics_Image-original_Hash:*** porque representa um hash único para a imagem original, usado para verificar a integridade da imagem ou identificar duplicates, mas para análises quantitativas não é importante.\n",
    "- ***diagnostics_Mask-original_Hash:*** porque representa um hash único da mask original, utilizado para verificar a integridade da mask. Para análises quantitativas não é importante."
   ]
  },
  {
   "cell_type": "code",
   "execution_count": 11,
   "id": "638939eb-0ae6-4209-89a0-c68fed12df2c",
   "metadata": {},
   "outputs": [
    {
     "name": "stdout",
     "output_type": "stream",
     "text": [
      "           ID                                              Image  \\\n",
      "0  006_S_0681  /notebooks/disk2/DS2_FreeSurfer/ADNI_006_S_068...   \n",
      "1  941_S_1203  /notebooks/disk2/DS2_FreeSurfer/ADNI_941_S_120...   \n",
      "2  011_S_0003  /notebooks/disk2/DS2_FreeSurfer/ADNI_011_S_000...   \n",
      "3  057_S_0779  /notebooks/disk2/DS2_FreeSurfer/ADNI_057_S_077...   \n",
      "4  033_S_0920  /notebooks/disk2/DS2_FreeSurfer/ADNI_033_S_092...   \n",
      "\n",
      "                                                Mask  \\\n",
      "0  /notebooks/disk2/DS2_FreeSurfer/ADNI_006_S_068...   \n",
      "1  /notebooks/disk2/DS2_FreeSurfer/ADNI_941_S_120...   \n",
      "2  /notebooks/disk2/DS2_FreeSurfer/ADNI_011_S_000...   \n",
      "3  /notebooks/disk2/DS2_FreeSurfer/ADNI_057_S_077...   \n",
      "4  /notebooks/disk2/DS2_FreeSurfer/ADNI_033_S_092...   \n",
      "\n",
      "            diagnostics_Image-original_Hash  \\\n",
      "0  b5d774a32163a7ee822d42a07808a787f8687f56   \n",
      "1  397042d736bd790b7880b372b1749ff424f89cbe   \n",
      "2  84d679a88812c4aaf03a6d99f00c913b2f64506f   \n",
      "3  168f330d2ca3f097146e5d041f33b40672d230df   \n",
      "4  ea5f291ea107dfda5e5c725eae7c0555ced44ce4   \n",
      "\n",
      "             diagnostics_Mask-original_Hash  \\\n",
      "0  9dd2d9f77e413977cd2881aa8183b2912a9627b6   \n",
      "1  24779fa61db749decc7eef7e520a6e2ca567ef7b   \n",
      "2  f838801a3f637d65f8d242af541371000bfde3af   \n",
      "3  b570889ce6526089be38f36191ece350922088e3   \n",
      "4  641c8ef1d280c1267dd49b90828b0ae5f522280f   \n",
      "\n",
      "  diagnostics_Mask-original_BoundingBox  \\\n",
      "0             (46, 99, 76, 43, 51, 105)   \n",
      "1            (28, 137, 77, 48, 44, 100)   \n",
      "2            (21, 109, 72, 46, 52, 112)   \n",
      "3             (30, 85, 70, 50, 55, 110)   \n",
      "4            (29, 105, 77, 47, 45, 108)   \n",
      "\n",
      "         diagnostics_Mask-original_CenterOfMassIndex  \\\n",
      "0  (63.015277297359624, 126.84203851031938, 127.2...   \n",
      "1  (48.72254303164908, 160.27007218212105, 122.57...   \n",
      "2  (40.64246922519913, 139.6085716871832, 126.311...   \n",
      "3  (49.16798692317364, 115.65732008885536, 127.28...   \n",
      "4  (47.38606338946533, 131.73039632590576, 133.67...   \n",
      "\n",
      "              diagnostics_Mask-original_CenterOfMass Transition  \n",
      "0  (63.015277297359624, 126.84203851031938, 127.2...      CN-CN  \n",
      "1  (48.72254303164908, 160.27007218212105, 122.57...      CN-CN  \n",
      "2  (40.64246922519913, 139.6085716871832, 126.311...      AD-AD  \n",
      "3  (49.16798692317364, 115.65732008885536, 127.28...     CN-MCI  \n",
      "4  (47.38606338946533, 131.73039632590576, 133.67...      CN-CN  \n"
     ]
    }
   ],
   "source": [
    "object_columns_treino = df_treino.select_dtypes(include='object')\n",
    "print(object_columns_treino.head())"
   ]
  },
  {
   "cell_type": "code",
   "execution_count": 12,
   "id": "d65a7c64-7e13-47e5-a19f-74e6a582bec3",
   "metadata": {},
   "outputs": [],
   "source": [
    "df_treino = df_treino.drop('ID', axis=1)\n",
    "df_treino = df_treino.drop('Image', axis=1)\n",
    "df_treino = df_treino.drop('Mask', axis=1)\n",
    "df_treino = df_treino.drop('diagnostics_Image-original_Hash', axis=1)\n",
    "df_treino = df_treino.drop('diagnostics_Mask-original_Hash', axis=1)\n",
    "df_treino = df_treino.drop('diagnostics_Mask-original_CenterOfMass', axis=1)"
   ]
  },
  {
   "cell_type": "code",
   "execution_count": 13,
   "id": "4223ee7d-6f10-428a-bf70-29f9d2e112af",
   "metadata": {},
   "outputs": [
    {
     "data": {
      "text/plain": [
       "(305, 2028)"
      ]
     },
     "execution_count": 13,
     "metadata": {},
     "output_type": "execute_result"
    }
   ],
   "source": [
    "df_treino.shape"
   ]
  },
  {
   "cell_type": "code",
   "execution_count": 14,
   "id": "1aec0f4a-4212-4138-84c7-38b36588913e",
   "metadata": {},
   "outputs": [
    {
     "name": "stdout",
     "output_type": "stream",
     "text": [
      "<class 'pandas.core.frame.DataFrame'>\n",
      "RangeIndex: 305 entries, 0 to 304\n",
      "Columns: 2028 entries, diagnostics_Image-original_Mean to Transition\n",
      "dtypes: float64(2001), int64(24), object(3)\n",
      "memory usage: 4.7+ MB\n"
     ]
    }
   ],
   "source": [
    "df_treino.info()"
   ]
  },
  {
   "cell_type": "markdown",
   "id": "126d7288-21a5-4759-9d60-f403b4826f4a",
   "metadata": {},
   "source": [
    "De seguida, vamos analisar as colunas restantes do tipo ***object***."
   ]
  },
  {
   "cell_type": "code",
   "execution_count": 15,
   "id": "3e0c38c9-de59-4cc0-b5f9-94cfffd257d9",
   "metadata": {},
   "outputs": [
    {
     "name": "stdout",
     "output_type": "stream",
     "text": [
      "  diagnostics_Mask-original_BoundingBox  \\\n",
      "0             (46, 99, 76, 43, 51, 105)   \n",
      "1            (28, 137, 77, 48, 44, 100)   \n",
      "2            (21, 109, 72, 46, 52, 112)   \n",
      "3             (30, 85, 70, 50, 55, 110)   \n",
      "4            (29, 105, 77, 47, 45, 108)   \n",
      "\n",
      "         diagnostics_Mask-original_CenterOfMassIndex Transition  \n",
      "0  (63.015277297359624, 126.84203851031938, 127.2...      CN-CN  \n",
      "1  (48.72254303164908, 160.27007218212105, 122.57...      CN-CN  \n",
      "2  (40.64246922519913, 139.6085716871832, 126.311...      AD-AD  \n",
      "3  (49.16798692317364, 115.65732008885536, 127.28...     CN-MCI  \n",
      "4  (47.38606338946533, 131.73039632590576, 133.67...      CN-CN  \n"
     ]
    }
   ],
   "source": [
    "object_columns_treino = df_treino.select_dtypes(include='object')\n",
    "print(object_columns_treino.head())"
   ]
  },
  {
   "cell_type": "code",
   "execution_count": 16,
   "id": "b232f54e-2bb8-48f9-a8f9-fb0c508490b2",
   "metadata": {},
   "outputs": [
    {
     "name": "stdout",
     "output_type": "stream",
     "text": [
      "Não\n"
     ]
    }
   ],
   "source": [
    "# Separar os elementos dos tuplos em colunas individuais\n",
    "bbox_cols = ['bbox_x1', 'bbox_y1', 'bbox_x2', 'bbox_y2', 'bbox_x3', 'bbox_y3']\n",
    "com_cols = ['com_x', 'com_y', 'com_z']\n",
    "\n",
    "df_treino[bbox_cols] = pd.DataFrame(df_treino['diagnostics_Mask-original_BoundingBox'].apply(eval).tolist(), index=df_treino.index)\n",
    "df_treino[com_cols] = pd.DataFrame(df_treino['diagnostics_Mask-original_CenterOfMassIndex'].apply(eval).tolist(), index=df_treino.index)\n",
    "\n",
    "# Remover as colunas originais\n",
    "df_treino = df_treino.drop('diagnostics_Mask-original_BoundingBox', axis = 1)\n",
    "df_treino = df_treino.drop('diagnostics_Mask-original_CenterOfMassIndex', axis=1)\n",
    "\n",
    "# Explicação das colunas\n",
    "# diagnostics_Mask-original_BoundingBox: Contém as coordenadas dos vértices da caixa delimitadora (bounding box).\n",
    "# diagnostics_Mask-original_CenterOfMassIndex: Contém as coordenadas do centro de massa.\n",
    "\n",
    "# Verificar a existência de valores ausentes\n",
    "missing_values = df_treino.isnull().sum()\n",
    "\n",
    "if missing_values.any():\n",
    "    print('Sim')\n",
    "    \n",
    "    # Imprimir os nomes das colunas com valores ausentes\n",
    "    cols_with_missing_values = missing_values[missing_values > 0].index.tolist()\n",
    "    print(\"Colunas com valores ausentes:\", cols_with_missing_values)\n",
    "else:\n",
    "    print('Não')"
   ]
  },
  {
   "cell_type": "code",
   "execution_count": 17,
   "id": "ca49bf78-3de3-4176-bb05-d128016feb39",
   "metadata": {},
   "outputs": [
    {
     "name": "stdout",
     "output_type": "stream",
     "text": [
      "   bbox_x1  bbox_y1  bbox_x2  bbox_y2  bbox_x3  bbox_y3      com_x  \\\n",
      "0       46       99       76       43       51      105  63.015277   \n",
      "1       28      137       77       48       44      100  48.722543   \n",
      "2       21      109       72       46       52      112  40.642469   \n",
      "3       30       85       70       50       55      110  49.167987   \n",
      "4       29      105       77       47       45      108  47.386063   \n",
      "\n",
      "        com_y       com_z  \n",
      "0  126.842039  127.218264  \n",
      "1  160.270072  122.572238  \n",
      "2  139.608572  126.311052  \n",
      "3  115.657320  127.281278  \n",
      "4  131.730396  133.674434  \n"
     ]
    }
   ],
   "source": [
    "# Imprimir as primeiras linhas das colunas especificadas\n",
    "columns = ['bbox_x1', 'bbox_y1', 'bbox_x2', 'bbox_y2', 'bbox_x3', 'bbox_y3', 'com_x', 'com_y', 'com_z']\n",
    "print(df_treino[columns].head())"
   ]
  },
  {
   "cell_type": "code",
   "execution_count": 18,
   "id": "c3cac868-73b3-4a98-b095-020b3b0597e4",
   "metadata": {},
   "outputs": [
    {
     "data": {
      "text/plain": [
       "(305, 2035)"
      ]
     },
     "execution_count": 18,
     "metadata": {},
     "output_type": "execute_result"
    }
   ],
   "source": [
    "df_treino.shape"
   ]
  },
  {
   "cell_type": "code",
   "execution_count": 19,
   "id": "3eb0ad43-fe66-4582-affc-b2f41b85fa2c",
   "metadata": {},
   "outputs": [
    {
     "name": "stdout",
     "output_type": "stream",
     "text": [
      "<class 'pandas.core.frame.DataFrame'>\n",
      "RangeIndex: 305 entries, 0 to 304\n",
      "Columns: 2035 entries, diagnostics_Image-original_Mean to com_z\n",
      "dtypes: float64(2004), int64(30), object(1)\n",
      "memory usage: 4.7+ MB\n"
     ]
    }
   ],
   "source": [
    "df_treino.info()"
   ]
  },
  {
   "cell_type": "markdown",
   "id": "994c4506-e1c8-43de-a432-e2dc8da6ad8e",
   "metadata": {},
   "source": [
    "Eliminamos as seguintes colunas, ***diagnostics_Mask-original_BoundingBox', diagnostics_Mask-original_CenterOfMassIndex***, e criamos novas com cada um dos elementos de coordenadas dos tuplos ***['bbox_x1', 'bbox_y1', 'bbox_x2', 'bbox_y2', 'bbox_x3', 'bbox_y3', 'com_x', 'com_y', 'com_z'].***"
   ]
  },
  {
   "cell_type": "markdown",
   "id": "f137b621-6587-4e1e-a18f-601e3bdaa405",
   "metadata": {},
   "source": [
    "### Remover colunas duplicadas"
   ]
  },
  {
   "cell_type": "code",
   "execution_count": 20,
   "id": "ce16a075-bde8-4759-b1ee-07591d23337d",
   "metadata": {},
   "outputs": [
    {
     "name": "stdout",
     "output_type": "stream",
     "text": [
      "Ainda existem colunas duplicadas em df_treino:\n",
      "Número de colunas duplicadas em df_treino: 166\n"
     ]
    }
   ],
   "source": [
    "# Verificar se há colunas duplicadas em df_treino\n",
    "duplicated_columns_treino = df_treino.T.duplicated(keep=False)\n",
    "\n",
    "# Exibir resultado para df_treino\n",
    "if duplicated_columns_treino.any():\n",
    "    print(\"Ainda existem colunas duplicadas em df_treino:\")\n",
    "    duplicate_column_names_treino = df_treino.columns[duplicated_columns_treino]\n",
    "    print(f\"Número de colunas duplicadas em df_treino: {len(duplicate_column_names_treino)}\")\n",
    "else:\n",
    "    print(\"Não há mais colunas duplicadas em df_treino.\")"
   ]
  },
  {
   "cell_type": "code",
   "execution_count": 21,
   "id": "4e738d24-0201-445f-9665-733124f41771",
   "metadata": {},
   "outputs": [
    {
     "name": "stdout",
     "output_type": "stream",
     "text": [
      "Total duplicated columns removed: 115\n",
      "Dimensions after removal: (305, 1920)\n"
     ]
    }
   ],
   "source": [
    "def remove_duplicated_columns(df):\n",
    "    # Identify duplicated columns (excluding the first occurrence)\n",
    "    duplicated_columns = df.T.duplicated(keep='first')\n",
    "    \n",
    "    # Get the list of duplicate column names to remove\n",
    "    columns_to_remove = df.columns[duplicated_columns]\n",
    "    \n",
    "    # Drop the duplicate columns\n",
    "    df_cleaned = df.drop(columns=columns_to_remove)\n",
    "    \n",
    "    # Total number of columns removed\n",
    "    total_removed = len(columns_to_remove)\n",
    "    \n",
    "    print(f\"Total duplicated columns removed: {total_removed}\")\n",
    "    \n",
    "    return df_cleaned, total_removed\n",
    "\n",
    "# Usage\n",
    "df_treino_cleaned, total_removed = remove_duplicated_columns(df_treino)\n",
    "print(f\"Dimensions after removal: {df_treino_cleaned.shape}\")"
   ]
  },
  {
   "cell_type": "markdown",
   "id": "e54d3327-335e-4558-acfb-f3921d26a8a0",
   "metadata": {},
   "source": [
    "### Converter de float64 e int64 para float32 e int32"
   ]
  },
  {
   "cell_type": "markdown",
   "id": "5d594500-db47-47ef-bb5c-ac592b4a7cc5",
   "metadata": {},
   "source": [
    "Em seguida, vamos tratar das conversões dos ints e floats do dataset de treino."
   ]
  },
  {
   "cell_type": "code",
   "execution_count": 22,
   "id": "82771473-cffa-4cf6-9c73-b6b417b02cf2",
   "metadata": {},
   "outputs": [
    {
     "name": "stdout",
     "output_type": "stream",
     "text": [
      "<class 'pandas.core.frame.DataFrame'>\n",
      "RangeIndex: 305 entries, 0 to 304\n",
      "Columns: 2035 entries, diagnostics_Image-original_Mean to com_z\n",
      "dtypes: float32(2004), int32(30), object(1)\n",
      "memory usage: 2.4+ MB\n"
     ]
    }
   ],
   "source": [
    "float_features = df_treino.select_dtypes(include='float')\n",
    "int_features = df_treino.select_dtypes(include='int')\n",
    "\n",
    "df_treino[float_features.columns] = df_treino[float_features.columns].astype(np.float32)\n",
    "df_treino[int_features.columns] = df_treino[int_features.columns].astype(np.int32)\n",
    "df_treino.info()"
   ]
  },
  {
   "cell_type": "markdown",
   "id": "c54a6063-808c-49ae-9834-fb450e000fdd",
   "metadata": {},
   "source": [
    "### Exportar os datasets resultantes"
   ]
  },
  {
   "cell_type": "code",
   "execution_count": 23,
   "id": "36afe782-aa14-4561-ad75-6f3bee454688",
   "metadata": {},
   "outputs": [
    {
     "name": "stdout",
     "output_type": "stream",
     "text": [
      "Dataset final de treino limpo exportado para data_mod_occ/dataset_treino.csv\n"
     ]
    }
   ],
   "source": [
    "# Criar a pasta se ela não existir\n",
    "output_folder = 'data_mod_occ'\n",
    "if not os.path.exists(output_folder):\n",
    "    os.makedirs(output_folder)\n",
    "\n",
    "# Exportar o DataFrame para um arquivo CSV na pasta criada\n",
    "output_file = os.path.join(output_folder, 'dataset_treino.csv')\n",
    "df_treino.to_csv(output_file, index=False)\n",
    "\n",
    "print(f\"Dataset final de treino limpo exportado para {output_file}\")"
   ]
  }
 ],
 "metadata": {
  "kernelspec": {
   "display_name": "Python 3 (ipykernel)",
   "language": "python",
   "name": "python3"
  },
  "language_info": {
   "codemirror_mode": {
    "name": "ipython",
    "version": 3
   },
   "file_extension": ".py",
   "mimetype": "text/x-python",
   "name": "python",
   "nbconvert_exporter": "python",
   "pygments_lexer": "ipython3",
   "version": "3.12.4"
  }
 },
 "nbformat": 4,
 "nbformat_minor": 5
}
