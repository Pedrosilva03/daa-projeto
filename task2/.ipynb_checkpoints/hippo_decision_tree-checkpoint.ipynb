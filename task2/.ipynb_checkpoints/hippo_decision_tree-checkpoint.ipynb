{
 "cells": [
  {
   "cell_type": "markdown",
   "id": "4191fa8b-b877-42ac-be8b-4c5af51a6670",
   "metadata": {},
   "source": [
    "# Tarefa 2 - Decision Tree Classifier para o Hippocampus"
   ]
  },
  {
   "cell_type": "code",
   "execution_count": 66,
   "id": "1539f5ce-d791-4223-bb4a-7925d305a924",
   "metadata": {},
   "outputs": [],
   "source": [
    "import pandas as pd\n",
    "import numpy as np\n",
    "import matplotlib.pyplot as plt\n",
    "import seaborn as sns\n",
    "%matplotlib inline"
   ]
  },
  {
   "cell_type": "code",
   "execution_count": 67,
   "id": "b4b065b5-d10e-4969-806e-d842645710ea",
   "metadata": {},
   "outputs": [],
   "source": [
    "data_treino = pd.read_csv('./data_mod_hippo/dataset_treino.csv', na_filter=False)\n",
    "data_teste = pd.read_csv('./data_mod_hippo/dataset_teste.csv', na_filter=False)"
   ]
  },
  {
   "cell_type": "code",
   "execution_count": 68,
   "id": "8c6de2fc-125d-4783-ae27-5479ded1e7e1",
   "metadata": {},
   "outputs": [
    {
     "name": "stdout",
     "output_type": "stream",
     "text": [
      "<class 'pandas.core.frame.DataFrame'>\n",
      "RangeIndex: 305 entries, 0 to 304\n",
      "Columns: 2023 entries, diagnostics_Image-original_Mean to com_z\n",
      "dtypes: float64(2014), int64(8), object(1)\n",
      "memory usage: 4.7+ MB\n"
     ]
    }
   ],
   "source": [
    "data_treino.info()"
   ]
  },
  {
   "cell_type": "code",
   "execution_count": 69,
   "id": "6f01514e-9ccd-42a9-8866-1831cda6943c",
   "metadata": {},
   "outputs": [
    {
     "name": "stdout",
     "output_type": "stream",
     "text": [
      "<class 'pandas.core.frame.DataFrame'>\n",
      "RangeIndex: 100 entries, 0 to 99\n",
      "Columns: 2022 entries, diagnostics_Image-original_Mean to com_z\n",
      "dtypes: float64(2012), int64(10)\n",
      "memory usage: 1.5 MB\n"
     ]
    }
   ],
   "source": [
    "data_teste.info()"
   ]
  },
  {
   "cell_type": "markdown",
   "id": "cee6056f-3ae0-40bc-adf7-97e57dd943ca",
   "metadata": {},
   "source": [
    "## Conversão de dados do tipo 64 para 32"
   ]
  },
  {
   "cell_type": "code",
   "execution_count": 70,
   "id": "81216ce3-b074-492b-8b35-c093f5516bf2",
   "metadata": {},
   "outputs": [
    {
     "name": "stdout",
     "output_type": "stream",
     "text": [
      "<class 'pandas.core.frame.DataFrame'>\n",
      "RangeIndex: 305 entries, 0 to 304\n",
      "Columns: 2023 entries, diagnostics_Image-original_Mean to com_z\n",
      "dtypes: float32(2014), int32(8), object(1)\n",
      "memory usage: 2.4+ MB\n"
     ]
    }
   ],
   "source": [
    "float_features = data_treino.select_dtypes(include='float')\n",
    "int_features = data_treino.select_dtypes(include='int')\n",
    "\n",
    "data_treino[float_features.columns] = data_treino[float_features.columns].astype(np.float32)\n",
    "data_treino[int_features.columns] = data_treino[int_features.columns].astype(np.int32)\n",
    "data_treino.info()"
   ]
  },
  {
   "cell_type": "code",
   "execution_count": 71,
   "id": "6e37e06a-5bdb-48d7-9021-167bba267d24",
   "metadata": {},
   "outputs": [
    {
     "name": "stdout",
     "output_type": "stream",
     "text": [
      "<class 'pandas.core.frame.DataFrame'>\n",
      "RangeIndex: 100 entries, 0 to 99\n",
      "Columns: 2022 entries, diagnostics_Image-original_Mean to com_z\n",
      "dtypes: float32(2012), int32(10)\n",
      "memory usage: 790.0 KB\n"
     ]
    }
   ],
   "source": [
    "float_features = data_teste.select_dtypes(include='float')\n",
    "int_features = data_teste.select_dtypes(include='int')\n",
    "\n",
    "data_teste[float_features.columns] = data_teste[float_features.columns].astype(np.float32)\n",
    "data_teste[int_features.columns] = data_teste[int_features.columns].astype(np.int32)\n",
    "data_teste.info()"
   ]
  },
  {
   "cell_type": "markdown",
   "id": "fa9ded0b-a4f5-4750-9337-c61b76786fc0",
   "metadata": {},
   "source": [
    "## Split dos Dados"
   ]
  },
  {
   "cell_type": "code",
   "execution_count": 72,
   "id": "bcdb80df-e182-421d-88dc-bd6de48bde0a",
   "metadata": {},
   "outputs": [
    {
     "name": "stdout",
     "output_type": "stream",
     "text": [
      "1962\n"
     ]
    }
   ],
   "source": [
    "from sklearn.model_selection import train_test_split\n",
    "from sklearn.tree import DecisionTreeClassifier\n",
    "\n",
    "X_treino = data_treino.drop(columns=['Transition'])\n",
    "y_treino = data_treino['Transition']\n",
    "\n",
    "X_teste = data_teste\n",
    "\n",
    "X_train, X_test, y_train, y_test = train_test_split(X_treino, y_treino, test_size=0.30, random_state=2023)\n",
    "\n",
    "model = DecisionTreeClassifier(random_state=2023)\n",
    "model.fit(X_treino, y_treino)\n",
    "feature_importances = model.feature_importances_\n",
    "\n",
    "features_to_drop = []\n",
    "for feature, importance in zip(X_train.columns, feature_importances):\n",
    "    #print(f\"{feature}: {importance}\")\n",
    "\n",
    "    if importance == 0:\n",
    "        features_to_drop.append(feature)\n",
    "print(len(features_to_drop))\n",
    "\n",
    "X_train = X_train.drop(columns=features_to_drop)\n",
    "X_test = X_test.drop(columns=features_to_drop)\n",
    "# Remover as mesmas variáveis de X_treino e X_teste, se necessário\n",
    "X_treino = X_treino.drop(columns=features_to_drop)  # errors='ignore' lida com colunas ausentes\n",
    "X_teste = X_teste.drop(columns=features_to_drop)\n",
    "\n",
    "#X_train.info()\n",
    "#X_treino.info()\n",
    "#X_test.info()\n",
    "#X_teste.info()"
   ]
  },
  {
   "cell_type": "markdown",
   "id": "78588e31-c561-4c9f-ae88-9a0dd5f47504",
   "metadata": {},
   "source": [
    "## Grid Search"
   ]
  },
  {
   "cell_type": "code",
   "execution_count": 73,
   "id": "1499bdf0-caf1-4a54-bad6-32d924d2cfb5",
   "metadata": {},
   "outputs": [
    {
     "name": "stdout",
     "output_type": "stream",
     "text": [
      "Fitting 5 folds for each of 4 candidates, totalling 20 fits\n",
      "[CV 1/5] END .....criterion=gini, splitter=best;, score=0.349 total time=   0.0s\n",
      "[CV 2/5] END .....criterion=gini, splitter=best;, score=0.256 total time=   0.0s\n",
      "[CV 3/5] END .....criterion=gini, splitter=best;, score=0.419 total time=   0.0s\n",
      "[CV 4/5] END .....criterion=gini, splitter=best;, score=0.381 total time=   0.0s\n",
      "[CV 5/5] END .....criterion=gini, splitter=best;, score=0.476 total time=   0.0s\n",
      "[CV 1/5] END ...criterion=gini, splitter=random;, score=0.326 total time=   0.0s\n",
      "[CV 2/5] END ...criterion=gini, splitter=random;, score=0.326 total time=   0.0s\n",
      "[CV 3/5] END ...criterion=gini, splitter=random;, score=0.326 total time=   0.0s\n",
      "[CV 4/5] END ...criterion=gini, splitter=random;, score=0.381 total time=   0.0s\n",
      "[CV 5/5] END ...criterion=gini, splitter=random;, score=0.381 total time=   0.0s\n",
      "[CV 1/5] END ..criterion=entropy, splitter=best;, score=0.256 total time=   0.0s\n",
      "[CV 2/5] END ..criterion=entropy, splitter=best;, score=0.442 total time=   0.0s\n",
      "[CV 3/5] END ..criterion=entropy, splitter=best;, score=0.512 total time=   0.0s\n",
      "[CV 4/5] END ..criterion=entropy, splitter=best;, score=0.429 total time=   0.0s\n",
      "[CV 5/5] END ..criterion=entropy, splitter=best;, score=0.476 total time=   0.0s\n",
      "[CV 1/5] END criterion=entropy, splitter=random;, score=0.395 total time=   0.0s\n",
      "[CV 2/5] END criterion=entropy, splitter=random;, score=0.326 total time=   0.0s\n",
      "[CV 3/5] END criterion=entropy, splitter=random;, score=0.302 total time=   0.0s\n",
      "[CV 4/5] END criterion=entropy, splitter=random;, score=0.167 total time=   0.0s\n",
      "[CV 5/5] END criterion=entropy, splitter=random;, score=0.190 total time=   0.0s\n",
      "Best estimator:  DecisionTreeClassifier(criterion='entropy', random_state=2023)\n",
      "              precision    recall  f1-score   support\n",
      "\n",
      "       AD-AD       0.38      0.23      0.29        22\n",
      "       CN-CN       0.58      0.68      0.62        28\n",
      "      CN-MCI       0.00      0.00      0.00         1\n",
      "      MCI-AD       0.29      0.37      0.33        19\n",
      "     MCI-MCI       0.31      0.23      0.26        22\n",
      "\n",
      "    accuracy                           0.39        92\n",
      "   macro avg       0.31      0.30      0.30        92\n",
      "weighted avg       0.40      0.39      0.39        92\n",
      "\n"
     ]
    },
    {
     "data": {
      "image/png": "[encoded data removed]",
      "text/plain": [
       "<Figure size 640x480 with 2 Axes>"
      ]
     },
     "metadata": {},
     "output_type": "display_data"
    }
   ],
   "source": [
    "from sklearn.tree import DecisionTreeClassifier\n",
    "from sklearn.model_selection import GridSearchCV\n",
    "from sklearn.metrics import classification_report, ConfusionMatrixDisplay\n",
    "\n",
    "# Definir o modelo de Decision Tree e a grade de parâmetros\n",
    "dt = DecisionTreeClassifier(random_state=2023)\n",
    "\n",
    "param_grid_dt = {\n",
    "    'criterion': ['gini', 'entropy'],         # Função para medir a qualidade da divisão\n",
    "    'splitter': ['best', 'random']        # Número mínimo de amostras em uma folha\n",
    "}\n",
    "\n",
    "# Configurar o GridSearchCV com o modelo de Decision Tree\n",
    "grid_searchDT = GridSearchCV(dt, param_grid_dt, cv=5, refit=True, verbose=3)\n",
    "grid_searchDT.fit(X_train, y_train)\n",
    "\n",
    "# Previsão nos dados de teste usando o melhor estimador encontrado\n",
    "grid_predictionDT = grid_searchDT.predict(X_test)\n",
    "\n",
    "# Resultados\n",
    "print(\"Best estimator: \", grid_searchDT.best_estimator_)\n",
    "\n",
    "print(classification_report(y_test, grid_predictionDT))\n",
    "ConfusionMatrixDisplay.from_predictions(y_test, grid_predictionDT)\n",
    "\n",
    "plt.show()"
   ]
  },
  {
   "cell_type": "markdown",
   "id": "051bce4f-0db7-4846-9fa5-e8c8712beeb7",
   "metadata": {},
   "source": [
    "## Decision Tree Classifier"
   ]
  },
  {
   "cell_type": "code",
   "execution_count": 46,
   "id": "1d46fc45-e983-45b9-8a4b-dddcc27737c8",
   "metadata": {},
   "outputs": [],
   "source": [
    "from sklearn.tree import DecisionTreeClassifier\n",
    "\n",
    "dtc = DecisionTreeClassifier(random_state=2023)\n",
    "dtc.fit(X_treino, y_treino)\n",
    "predictionDTC = dtc.predict(X_teste)"
   ]
  },
  {
   "cell_type": "code",
   "execution_count": 47,
   "id": "ccea7bd9-f8ad-45b6-883e-6cb4c23bb3d3",
   "metadata": {},
   "outputs": [],
   "source": [
    "with open('results_DTC.csv', 'w') as results:\n",
    "    results.write('RowId,Result\\n')\n",
    "    i = 1\n",
    "    for p in predictionDTC:\n",
    "        results.write(f'{i},{p}\\n')\n",
    "        i+=1"
   ]
  }
 ],
 "metadata": {
  "kernelspec": {
   "display_name": "Python 3 (ipykernel)",
   "language": "python",
   "name": "python3"
  },
  "language_info": {
   "codemirror_mode": {
    "name": "ipython",
    "version": 3
   },
   "file_extension": ".py",
   "mimetype": "text/x-python",
   "name": "python",
   "nbconvert_exporter": "python",
   "pygments_lexer": "ipython3",
   "version": "3.12.4"
  }
 },
 "nbformat": 4,
 "nbformat_minor": 5
}
