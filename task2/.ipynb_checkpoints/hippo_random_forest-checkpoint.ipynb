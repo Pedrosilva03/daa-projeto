{
 "cells": [
  {
   "cell_type": "markdown",
   "id": "4191fa8b-b877-42ac-be8b-4c5af51a6670",
   "metadata": {},
   "source": [
    "# Tarefa 2 - Random Forest Classifier para o Hippocampus"
   ]
  },
  {
   "cell_type": "code",
   "execution_count": 1,
   "id": "1539f5ce-d791-4223-bb4a-7925d305a924",
   "metadata": {},
   "outputs": [],
   "source": [
    "import pandas as pd\n",
    "import numpy as np\n",
    "import matplotlib.pyplot as plt\n",
    "import seaborn as sns\n",
    "%matplotlib inline\n",
    "import os\n",
    "import random"
   ]
  },
  {
   "cell_type": "code",
   "execution_count": 2,
   "id": "272278ac-f271-43e4-aa80-7ebae53e3de3",
   "metadata": {},
   "outputs": [],
   "source": [
    "def set_seed(seed: int):\n",
    "    random.seed(seed) # Python\n",
    "    np.random.seed(seed)  # Numpy, é o gerador utilizado pelo sklearn\n",
    "    os.environ[\"PYTHONHASHSEED\"] = str(seed)  # sistema operativo\n",
    "\n",
    "# Fixar a seed\n",
    "set_seed(2023)"
   ]
  },
  {
   "cell_type": "code",
   "execution_count": 3,
   "id": "b4b065b5-d10e-4969-806e-d842645710ea",
   "metadata": {},
   "outputs": [],
   "source": [
    "data_treino = pd.read_csv('./data_mod_hippo/dataset_treino.csv', na_filter=False)\n",
    "data_teste = pd.read_csv('./data_mod_hippo/dataset_teste.csv', na_filter=False)"
   ]
  },
  {
   "cell_type": "code",
   "execution_count": 4,
   "id": "8c6de2fc-125d-4783-ae27-5479ded1e7e1",
   "metadata": {},
   "outputs": [
    {
     "name": "stdout",
     "output_type": "stream",
     "text": [
      "<class 'pandas.core.frame.DataFrame'>\n",
      "RangeIndex: 305 entries, 0 to 304\n",
      "Columns: 1906 entries, diagnostics_Image-original_Mean to com_z\n",
      "dtypes: float64(1899), int64(6), object(1)\n",
      "memory usage: 4.4+ MB\n"
     ]
    }
   ],
   "source": [
    "data_treino.info()"
   ]
  },
  {
   "cell_type": "code",
   "execution_count": 5,
   "id": "6f01514e-9ccd-42a9-8866-1831cda6943c",
   "metadata": {},
   "outputs": [
    {
     "name": "stdout",
     "output_type": "stream",
     "text": [
      "<class 'pandas.core.frame.DataFrame'>\n",
      "RangeIndex: 100 entries, 0 to 99\n",
      "Columns: 1905 entries, diagnostics_Image-original_Mean to com_z\n",
      "dtypes: float64(1896), int64(9)\n",
      "memory usage: 1.5 MB\n"
     ]
    }
   ],
   "source": [
    "data_teste.info()"
   ]
  },
  {
   "cell_type": "markdown",
   "id": "cee6056f-3ae0-40bc-adf7-97e57dd943ca",
   "metadata": {},
   "source": [
    "## Conversão de dados do tipo 64 para 32"
   ]
  },
  {
   "cell_type": "code",
   "execution_count": 6,
   "id": "81216ce3-b074-492b-8b35-c093f5516bf2",
   "metadata": {},
   "outputs": [
    {
     "name": "stdout",
     "output_type": "stream",
     "text": [
      "<class 'pandas.core.frame.DataFrame'>\n",
      "RangeIndex: 305 entries, 0 to 304\n",
      "Columns: 1906 entries, diagnostics_Image-original_Mean to com_z\n",
      "dtypes: float32(1899), int32(6), object(1)\n",
      "memory usage: 2.2+ MB\n"
     ]
    }
   ],
   "source": [
    "float_features = data_treino.select_dtypes(include='float')\n",
    "int_features = data_treino.select_dtypes(include='int')\n",
    "\n",
    "data_treino[float_features.columns] = data_treino[float_features.columns].astype(np.float32)\n",
    "data_treino[int_features.columns] = data_treino[int_features.columns].astype(np.int32)\n",
    "data_treino.info()"
   ]
  },
  {
   "cell_type": "code",
   "execution_count": 7,
   "id": "6e37e06a-5bdb-48d7-9021-167bba267d24",
   "metadata": {},
   "outputs": [
    {
     "name": "stdout",
     "output_type": "stream",
     "text": [
      "<class 'pandas.core.frame.DataFrame'>\n",
      "RangeIndex: 100 entries, 0 to 99\n",
      "Columns: 1905 entries, diagnostics_Image-original_Mean to com_z\n",
      "dtypes: float32(1896), int32(9)\n",
      "memory usage: 744.3 KB\n"
     ]
    }
   ],
   "source": [
    "float_features = data_teste.select_dtypes(include='float')\n",
    "int_features = data_teste.select_dtypes(include='int')\n",
    "\n",
    "data_teste[float_features.columns] = data_teste[float_features.columns].astype(np.float32)\n",
    "data_teste[int_features.columns] = data_teste[int_features.columns].astype(np.int32)\n",
    "data_teste.info()"
   ]
  },
  {
   "cell_type": "markdown",
   "id": "a22f6ca0-5fd1-42bf-b048-7444ab6ca003",
   "metadata": {},
   "source": [
    "## Normalização dos dados"
   ]
  },
  {
   "cell_type": "code",
   "execution_count": 8,
   "id": "fd066565-9099-4eee-a029-dae32f40f7a6",
   "metadata": {},
   "outputs": [
    {
     "data": {
      "text/html": [
       "<div>\n",
       "<style scoped>\n",
       "    .dataframe tbody tr th:only-of-type {\n",
       "        vertical-align: middle;\n",
       "    }\n",
       "\n",
       "    .dataframe tbody tr th {\n",
       "        vertical-align: top;\n",
       "    }\n",
       "\n",
       "    .dataframe thead th {\n",
       "        text-align: right;\n",
       "    }\n",
       "</style>\n",
       "<table border=\"1\" class=\"dataframe\">\n",
       "  <thead>\n",
       "    <tr style=\"text-align: right;\">\n",
       "      <th></th>\n",
       "      <th>diagnostics_Image-original_Mean</th>\n",
       "      <th>diagnostics_Image-original_Maximum</th>\n",
       "      <th>diagnostics_Mask-original_VoxelNum</th>\n",
       "      <th>original_shape_Elongation</th>\n",
       "      <th>original_shape_Flatness</th>\n",
       "      <th>original_shape_LeastAxisLength</th>\n",
       "      <th>original_shape_MajorAxisLength</th>\n",
       "      <th>original_shape_Maximum2DDiameterColumn</th>\n",
       "      <th>original_shape_Maximum2DDiameterRow</th>\n",
       "      <th>original_shape_Maximum2DDiameterSlice</th>\n",
       "      <th>...</th>\n",
       "      <th>bbox_x1</th>\n",
       "      <th>bbox_y1</th>\n",
       "      <th>bbox_x2</th>\n",
       "      <th>bbox_y2</th>\n",
       "      <th>bbox_x3</th>\n",
       "      <th>bbox_y3</th>\n",
       "      <th>com_x</th>\n",
       "      <th>com_y</th>\n",
       "      <th>com_z</th>\n",
       "      <th>Transition</th>\n",
       "    </tr>\n",
       "  </thead>\n",
       "  <tbody>\n",
       "    <tr>\n",
       "      <th>0</th>\n",
       "      <td>0.468027</td>\n",
       "      <td>0.448430</td>\n",
       "      <td>0.587848</td>\n",
       "      <td>0.550147</td>\n",
       "      <td>0.690337</td>\n",
       "      <td>0.602391</td>\n",
       "      <td>0.339970</td>\n",
       "      <td>0.356589</td>\n",
       "      <td>0.295548</td>\n",
       "      <td>0.562431</td>\n",
       "      <td>...</td>\n",
       "      <td>0.769231</td>\n",
       "      <td>0.317308</td>\n",
       "      <td>0.571429</td>\n",
       "      <td>0.1250</td>\n",
       "      <td>0.693878</td>\n",
       "      <td>0.272727</td>\n",
       "      <td>0.723281</td>\n",
       "      <td>0.361338</td>\n",
       "      <td>0.557828</td>\n",
       "      <td>CN-CN</td>\n",
       "    </tr>\n",
       "    <tr>\n",
       "      <th>1</th>\n",
       "      <td>0.281221</td>\n",
       "      <td>0.556054</td>\n",
       "      <td>0.706032</td>\n",
       "      <td>0.585322</td>\n",
       "      <td>0.602089</td>\n",
       "      <td>0.518581</td>\n",
       "      <td>0.365822</td>\n",
       "      <td>0.412638</td>\n",
       "      <td>0.389133</td>\n",
       "      <td>0.619620</td>\n",
       "      <td>...</td>\n",
       "      <td>0.205128</td>\n",
       "      <td>0.586538</td>\n",
       "      <td>0.571429</td>\n",
       "      <td>0.8125</td>\n",
       "      <td>0.122449</td>\n",
       "      <td>0.363636</td>\n",
       "      <td>0.276666</td>\n",
       "      <td>0.490769</td>\n",
       "      <td>0.546699</td>\n",
       "      <td>CN-CN</td>\n",
       "    </tr>\n",
       "    <tr>\n",
       "      <th>2</th>\n",
       "      <td>0.764980</td>\n",
       "      <td>0.242152</td>\n",
       "      <td>0.517780</td>\n",
       "      <td>0.728840</td>\n",
       "      <td>1.000000</td>\n",
       "      <td>1.000000</td>\n",
       "      <td>0.506137</td>\n",
       "      <td>0.714104</td>\n",
       "      <td>0.676976</td>\n",
       "      <td>0.932585</td>\n",
       "      <td>...</td>\n",
       "      <td>0.102564</td>\n",
       "      <td>0.432692</td>\n",
       "      <td>0.285714</td>\n",
       "      <td>0.9375</td>\n",
       "      <td>0.693878</td>\n",
       "      <td>0.727273</td>\n",
       "      <td>0.165689</td>\n",
       "      <td>0.490785</td>\n",
       "      <td>0.607888</td>\n",
       "      <td>AD-AD</td>\n",
       "    </tr>\n",
       "    <tr>\n",
       "      <th>3</th>\n",
       "      <td>0.651078</td>\n",
       "      <td>0.385650</td>\n",
       "      <td>0.794187</td>\n",
       "      <td>0.542751</td>\n",
       "      <td>0.538208</td>\n",
       "      <td>0.572060</td>\n",
       "      <td>0.532693</td>\n",
       "      <td>0.637319</td>\n",
       "      <td>0.577739</td>\n",
       "      <td>0.760667</td>\n",
       "      <td>...</td>\n",
       "      <td>0.512821</td>\n",
       "      <td>0.105769</td>\n",
       "      <td>0.357143</td>\n",
       "      <td>0.4375</td>\n",
       "      <td>0.653061</td>\n",
       "      <td>0.590909</td>\n",
       "      <td>0.553885</td>\n",
       "      <td>0.133022</td>\n",
       "      <td>0.635708</td>\n",
       "      <td>CN-MCI</td>\n",
       "    </tr>\n",
       "    <tr>\n",
       "      <th>4</th>\n",
       "      <td>0.382225</td>\n",
       "      <td>0.197309</td>\n",
       "      <td>0.391167</td>\n",
       "      <td>0.497211</td>\n",
       "      <td>0.122606</td>\n",
       "      <td>0.119737</td>\n",
       "      <td>0.640989</td>\n",
       "      <td>0.513771</td>\n",
       "      <td>0.492226</td>\n",
       "      <td>0.566272</td>\n",
       "      <td>...</td>\n",
       "      <td>0.358974</td>\n",
       "      <td>0.432692</td>\n",
       "      <td>0.428571</td>\n",
       "      <td>0.3750</td>\n",
       "      <td>0.571429</td>\n",
       "      <td>0.454545</td>\n",
       "      <td>0.312799</td>\n",
       "      <td>0.421267</td>\n",
       "      <td>0.494897</td>\n",
       "      <td>CN-CN</td>\n",
       "    </tr>\n",
       "  </tbody>\n",
       "</table>\n",
       "<p>5 rows × 1906 columns</p>\n",
       "</div>"
      ],
      "text/plain": [
       "   diagnostics_Image-original_Mean  diagnostics_Image-original_Maximum  \\\n",
       "0                         0.468027                            0.448430   \n",
       "1                         0.281221                            0.556054   \n",
       "2                         0.764980                            0.242152   \n",
       "3                         0.651078                            0.385650   \n",
       "4                         0.382225                            0.197309   \n",
       "\n",
       "   diagnostics_Mask-original_VoxelNum  original_shape_Elongation  \\\n",
       "0                            0.587848                   0.550147   \n",
       "1                            0.706032                   0.585322   \n",
       "2                            0.517780                   0.728840   \n",
       "3                            0.794187                   0.542751   \n",
       "4                            0.391167                   0.497211   \n",
       "\n",
       "   original_shape_Flatness  original_shape_LeastAxisLength  \\\n",
       "0                 0.690337                        0.602391   \n",
       "1                 0.602089                        0.518581   \n",
       "2                 1.000000                        1.000000   \n",
       "3                 0.538208                        0.572060   \n",
       "4                 0.122606                        0.119737   \n",
       "\n",
       "   original_shape_MajorAxisLength  original_shape_Maximum2DDiameterColumn  \\\n",
       "0                        0.339970                                0.356589   \n",
       "1                        0.365822                                0.412638   \n",
       "2                        0.506137                                0.714104   \n",
       "3                        0.532693                                0.637319   \n",
       "4                        0.640989                                0.513771   \n",
       "\n",
       "   original_shape_Maximum2DDiameterRow  original_shape_Maximum2DDiameterSlice  \\\n",
       "0                             0.295548                               0.562431   \n",
       "1                             0.389133                               0.619620   \n",
       "2                             0.676976                               0.932585   \n",
       "3                             0.577739                               0.760667   \n",
       "4                             0.492226                               0.566272   \n",
       "\n",
       "   ...   bbox_x1   bbox_y1   bbox_x2  bbox_y2   bbox_x3   bbox_y3     com_x  \\\n",
       "0  ...  0.769231  0.317308  0.571429   0.1250  0.693878  0.272727  0.723281   \n",
       "1  ...  0.205128  0.586538  0.571429   0.8125  0.122449  0.363636  0.276666   \n",
       "2  ...  0.102564  0.432692  0.285714   0.9375  0.693878  0.727273  0.165689   \n",
       "3  ...  0.512821  0.105769  0.357143   0.4375  0.653061  0.590909  0.553885   \n",
       "4  ...  0.358974  0.432692  0.428571   0.3750  0.571429  0.454545  0.312799   \n",
       "\n",
       "      com_y     com_z  Transition  \n",
       "0  0.361338  0.557828       CN-CN  \n",
       "1  0.490769  0.546699       CN-CN  \n",
       "2  0.490785  0.607888       AD-AD  \n",
       "3  0.133022  0.635708      CN-MCI  \n",
       "4  0.421267  0.494897       CN-CN  \n",
       "\n",
       "[5 rows x 1906 columns]"
      ]
     },
     "execution_count": 8,
     "metadata": {},
     "output_type": "execute_result"
    }
   ],
   "source": [
    "from sklearn.preprocessing import MinMaxScaler\n",
    "data_treino_normalize = data_treino.copy()\n",
    "data_teste_normalize = data_teste.copy()\n",
    "\n",
    "X_scale = data_treino_normalize.drop(columns=['Transition'])\n",
    "\n",
    "scaler_X = MinMaxScaler(feature_range=(0,1)).fit(X_scale)\n",
    "scaler_y = MinMaxScaler(feature_range=(0,1)).fit(data_teste_normalize)\n",
    "X_scale = pd.DataFrame(scaler_X.transform(X_scale[X_scale.columns]), columns=X_scale.columns)\n",
    "data_teste_normalize = pd.DataFrame(scaler_y.transform(data_teste_normalize[data_teste_normalize.columns]), columns=data_teste_normalize.columns)\n",
    "\n",
    "data_treino_normalize = pd.concat([X_scale, data_treino_normalize['Transition']], axis=1)\n",
    "\n",
    "data_treino_normalize.head()"
   ]
  },
  {
   "cell_type": "markdown",
   "id": "b770029b-7842-49f9-8a03-2ca7af91a64c",
   "metadata": {},
   "source": [
    "## Conversão de dados do tipo 64 para 32 depois da normalização"
   ]
  },
  {
   "cell_type": "code",
   "execution_count": 9,
   "id": "d443785e-6cf1-4cd0-90c3-7beebf89deab",
   "metadata": {},
   "outputs": [
    {
     "name": "stdout",
     "output_type": "stream",
     "text": [
      "<class 'pandas.core.frame.DataFrame'>\n",
      "RangeIndex: 305 entries, 0 to 304\n",
      "Columns: 1906 entries, diagnostics_Image-original_Mean to Transition\n",
      "dtypes: float32(1905), object(1)\n",
      "memory usage: 2.2+ MB\n"
     ]
    }
   ],
   "source": [
    "float_features = data_treino_normalize.select_dtypes(include='float')\n",
    "int_features = data_treino_normalize.select_dtypes(include='int')\n",
    "\n",
    "data_treino_normalize[float_features.columns] = data_treino_normalize[float_features.columns].astype(np.float32)\n",
    "data_treino_normalize[int_features.columns] = data_treino_normalize[int_features.columns].astype(np.int32)\n",
    "data_treino_normalize.info()"
   ]
  },
  {
   "cell_type": "code",
   "execution_count": 10,
   "id": "ba4842e6-bd1c-4471-94af-b63260d82d4f",
   "metadata": {},
   "outputs": [
    {
     "name": "stdout",
     "output_type": "stream",
     "text": [
      "<class 'pandas.core.frame.DataFrame'>\n",
      "RangeIndex: 100 entries, 0 to 99\n",
      "Columns: 1905 entries, diagnostics_Image-original_Mean to com_z\n",
      "dtypes: float32(1905)\n",
      "memory usage: 744.3 KB\n"
     ]
    }
   ],
   "source": [
    "float_features = data_teste_normalize.select_dtypes(include='float')\n",
    "int_features = data_teste_normalize.select_dtypes(include='int')\n",
    "\n",
    "data_teste_normalize[float_features.columns] = data_teste_normalize[float_features.columns].astype(np.float32)\n",
    "data_teste_normalize[int_features.columns] = data_teste_normalize[int_features.columns].astype(np.int32)\n",
    "data_teste_normalize.info()"
   ]
  },
  {
   "cell_type": "markdown",
   "id": "fa9ded0b-a4f5-4750-9337-c61b76786fc0",
   "metadata": {},
   "source": [
    "## Split dos Dados"
   ]
  },
  {
   "cell_type": "code",
   "execution_count": 11,
   "id": "bcdb80df-e182-421d-88dc-bd6de48bde0a",
   "metadata": {},
   "outputs": [],
   "source": [
    "from sklearn.model_selection import train_test_split\n",
    "\n",
    "X_treino = data_treino.drop(columns=['Transition'])\n",
    "y_treino = data_treino['Transition']\n",
    "\n",
    "X_teste = data_teste\n",
    "\n",
    "X_train, X_test, y_train, y_test = train_test_split(X_treino, y_treino, test_size=0.2, random_state=2023)\n",
    "\n",
    "X_treino_normalize = data_treino_normalize.drop(columns=['Transition'])\n",
    "y_treino_normalize = data_treino_normalize['Transition']\n",
    "\n",
    "X_teste_normalize = data_teste_normalize\n",
    "\n",
    "X_train_normalize, X_test_normalize, y_train_normalize, y_test_normalize = train_test_split(X_treino_normalize, y_treino_normalize, test_size=0.2, random_state=2023)"
   ]
  },
  {
   "cell_type": "markdown",
   "id": "d6419f22-160a-453c-8cab-9ae19c1b29a3",
   "metadata": {},
   "source": [
    "## Feature Selection"
   ]
  },
  {
   "cell_type": "code",
   "execution_count": 12,
   "id": "71077972-f80e-4ce0-9477-ff219d0b5575",
   "metadata": {},
   "outputs": [
    {
     "data": {
      "image/png": "[encoded data removed]",
      "text/plain": [
       "<Figure size 640x480 with 1 Axes>"
      ]
     },
     "metadata": {},
     "output_type": "display_data"
    },
    {
     "name": "stdout",
     "output_type": "stream",
     "text": [
      "Features com importância MDI - 0: 1846\n"
     ]
    },
    {
     "data": {
      "image/png": "[encoded data removed]",
      "text/plain": [
       "<Figure size 640x480 with 1 Axes>"
      ]
     },
     "metadata": {},
     "output_type": "display_data"
    },
    {
     "name": "stdout",
     "output_type": "stream",
     "text": [
      "Features com importância Permutation - 0: 1846\n"
     ]
    },
    {
     "data": {
      "image/png": "[encoded data removed]",
      "text/plain": [
       "<Figure size 640x480 with 1 Axes>"
      ]
     },
     "metadata": {},
     "output_type": "display_data"
    },
    {
     "name": "stdout",
     "output_type": "stream",
     "text": [
      "Features com importância SHAP - 0: 1859\n",
      "Features a serem removidas (comuns a todas as abordagens): 1802\n"
     ]
    }
   ],
   "source": [
    "import shap\n",
    "from sklearn.tree import DecisionTreeClassifier\n",
    "from sklearn.inspection import permutation_importance\n",
    "import matplotlib.pyplot as plt\n",
    "\n",
    "model = DecisionTreeClassifier(random_state=2023)\n",
    "model.fit(X_treino, y_treino)\n",
    "\n",
    "### 1. Feature Importance baseado em Mean Decrease in Impurity (MDI)\n",
    "mdi_importances = model.feature_importances_\n",
    "\n",
    "plt.hist(mdi_importances, bins=6, range=(0, max(mdi_importances)), color='green', alpha=0.7)\n",
    "plt.xlabel(\"Feature Importance\")\n",
    "plt.ylabel(\"Frequency\")\n",
    "plt.title(\"Zoomed Distribution of Feature Importances (MDI)\")\n",
    "plt.show()\n",
    "\n",
    "# Identificar features com importância MDI menor ou igual ao limite\n",
    "mdi_threshold = 0\n",
    "features_mdi = [feature for feature, importance in zip(X_treino.columns, mdi_importances) if importance == mdi_threshold]\n",
    "print(f\"Features com importância MDI - {mdi_threshold}: {len(features_mdi)}\")\n",
    "\n",
    "### 2. Feature Importance baseado em Permutation Importance\n",
    "perm_importance = permutation_importance(model, X_treino, y_treino, n_repeats=5, random_state=2023, n_jobs = -1)\n",
    "perm_importances = perm_importance.importances_mean\n",
    "\n",
    "plt.hist(perm_importances, bins=6, range=(0, max(perm_importances)), color='orange', alpha=0.7)\n",
    "plt.xlabel(\"Feature Importance\")\n",
    "plt.ylabel(\"Frequency\")\n",
    "plt.title(\"Zoomed Distribution of Feature Importances (Permutation Importance)\")\n",
    "plt.show()\n",
    "\n",
    "# Identificar features com importância de Permutation menor ou igual ao limite\n",
    "perm_threshold = 0\n",
    "features_perm = [feature for feature, importance in zip(X_treino.columns, perm_importances) if importance == perm_threshold]\n",
    "print(f\"Features com importância Permutation - {perm_threshold}: {len(features_perm)}\")\n",
    "\n",
    "### 3. Feature Importance baseado em SHAP\n",
    "# Criar valores SHAP para o modelo\n",
    "explainer = shap.TreeExplainer(model, X_treino)\n",
    "shap_values = explainer(X_treino, check_additivity=False)\n",
    "\n",
    "# Calcular a média dos valores absolutos de SHAP para cada feature\n",
    "shap_importances = np.abs(shap_values.values).mean(axis=0)\n",
    "\n",
    "# Garantir que shap_importances seja uma lista ou array unidimensional\n",
    "shap_importances = np.array(shap_importances).flatten()\n",
    "\n",
    "plt.hist(shap_importances, bins=6, range=(0, max(shap_importances)), color='cyan', alpha=0.7)\n",
    "plt.xlabel(\"SHAP Importance\")\n",
    "plt.ylabel(\"Frequency\")\n",
    "plt.title(\"Zoomed Distribution of Feature Importances (SHAP)\")\n",
    "plt.show()\n",
    "\n",
    "# Identificar features com importância SHAP menor ou igual ao limite\n",
    "shap_threshold = 0\n",
    "features_shap = [feature for feature, importance in zip(X_treino.columns, shap_importances) if importance == shap_threshold]\n",
    "print(f\"Features com importância SHAP - {shap_threshold}: {len(features_shap)}\")\n",
    "\n",
    "### 4. Combinação de todas as abordagenspermutat\n",
    "features_to_drop = list(\n",
    "    set(features_mdi).intersection(set(features_perm)).intersection(set(features_shap))\n",
    ")\n",
    "print(f\"Features a serem removidas (comuns a todas as abordagens): {len(features_to_drop)}\")"
   ]
  },
  {
   "cell_type": "code",
   "execution_count": 13,
   "id": "f4dcacbf-3dba-4cde-9d1e-aa0955bd7293",
   "metadata": {},
   "outputs": [
    {
     "name": "stdout",
     "output_type": "stream",
     "text": [
      "Conjunto de treino reduzido: (305, 103)\n",
      "Conjunto de teste reduzido: (100, 103)\n",
      "Conjunto de treino reduzido: (305, 103)\n",
      "Conjunto de teste reduzido: (100, 103)\n"
     ]
    }
   ],
   "source": [
    "### Remover as features identificadas\n",
    "X_train = X_train.drop(columns=features_to_drop)\n",
    "X_test = X_test.drop(columns=features_to_drop)\n",
    "X_treino = X_treino.drop(columns=features_to_drop)\n",
    "X_teste = X_teste.drop(columns=features_to_drop)\n",
    "\n",
    "X_train_normalize = X_train_normalize.drop(columns=features_to_drop)\n",
    "X_test_normalize = X_test_normalize.drop(columns=features_to_drop)\n",
    "X_treino_normalize = X_treino_normalize.drop(columns=features_to_drop)\n",
    "X_teste_normalize = X_teste_normalize.drop(columns=features_to_drop)\n",
    "\n",
    "print(f\"Conjunto de treino reduzido: {X_treino.shape}\")\n",
    "print(f\"Conjunto de teste reduzido: {X_teste.shape}\")\n",
    "print(f\"Conjunto de treino reduzido: {X_treino_normalize.shape}\")\n",
    "print(f\"Conjunto de teste reduzido: {X_teste_normalize.shape}\")"
   ]
  },
  {
   "cell_type": "markdown",
   "id": "78588e31-c561-4c9f-ae88-9a0dd5f47504",
   "metadata": {},
   "source": [
    "## Grid Search"
   ]
  },
  {
   "cell_type": "code",
   "execution_count": 16,
   "id": "1499bdf0-caf1-4a54-bad6-32d924d2cfb5",
   "metadata": {},
   "outputs": [
    {
     "name": "stdout",
     "output_type": "stream",
     "text": [
      "Fitting 3 folds for each of 1 candidates, totalling 3 fits\n",
      "[CV 1/3] END ..................................., score=0.353 total time=   0.2s\n",
      "[CV 2/3] END ..................................., score=0.356 total time=   0.2s\n",
      "[CV 3/3] END ..................................., score=0.301 total time=   0.2s\n",
      "Best estimator:  RandomForestClassifier(random_state=2023)\n",
      "              precision    recall  f1-score   support\n",
      "\n",
      "       AD-AD       0.45      0.36      0.40        14\n",
      "       CN-CN       0.73      0.84      0.78        19\n",
      "      CN-MCI       0.00      0.00      0.00         1\n",
      "      MCI-AD       0.24      0.45      0.31        11\n",
      "     MCI-MCI       0.29      0.12      0.17        16\n",
      "\n",
      "    accuracy                           0.46        61\n",
      "   macro avg       0.34      0.36      0.33        61\n",
      "weighted avg       0.45      0.46      0.44        61\n",
      "\n"
     ]
    },
    {
     "name": "stderr",
     "output_type": "stream",
     "text": [
      "/home/dbarr0s/miniconda3/envs/DAA/lib/python3.12/site-packages/sklearn/metrics/_classification.py:1531: UndefinedMetricWarning: Precision is ill-defined and being set to 0.0 in labels with no predicted samples. Use `zero_division` parameter to control this behavior.\n",
      "  _warn_prf(average, modifier, f\"{metric.capitalize()} is\", len(result))\n",
      "/home/dbarr0s/miniconda3/envs/DAA/lib/python3.12/site-packages/sklearn/metrics/_classification.py:1531: UndefinedMetricWarning: Precision is ill-defined and being set to 0.0 in labels with no predicted samples. Use `zero_division` parameter to control this behavior.\n",
      "  _warn_prf(average, modifier, f\"{metric.capitalize()} is\", len(result))\n",
      "/home/dbarr0s/miniconda3/envs/DAA/lib/python3.12/site-packages/sklearn/metrics/_classification.py:1531: UndefinedMetricWarning: Precision is ill-defined and being set to 0.0 in labels with no predicted samples. Use `zero_division` parameter to control this behavior.\n",
      "  _warn_prf(average, modifier, f\"{metric.capitalize()} is\", len(result))\n"
     ]
    },
    {
     "data": {
      "image/png": "[encoded data removed]",
      "text/plain": [
       "<Figure size 640x480 with 2 Axes>"
      ]
     },
     "metadata": {},
     "output_type": "display_data"
    }
   ],
   "source": [
    "from sklearn.ensemble import RandomForestClassifier\n",
    "from sklearn.model_selection import GridSearchCV\n",
    "from sklearn.metrics import classification_report, ConfusionMatrixDisplay\n",
    "\n",
    "rfc = RandomForestClassifier(random_state=2023)\n",
    "\n",
    "param_grid = {\n",
    "    #'max_depth': [None,5,10,15],\n",
    "    #'min_samples_split': [25],     # Allow splits with a reasonable number of samples\n",
    "    #'bootstrap': [False],\n",
    "    #'criterion': ['gini', 'entropy'], \n",
    "    #'min_samples_leaf': [5],   # Adjust to include a range of leaf sizes\n",
    "    #'max_leaf_nodes': [10],   # Increase the number of leaf nodes for better granularity\n",
    "}\n",
    "\n",
    "# GridSearchCV com cv=5 para maior robustez\n",
    "grid_searchRFC = GridSearchCV(rfc, param_grid, cv=3, refit=True, verbose=3, scoring='f1_macro')\n",
    "grid_searchRFC.fit(X_train, y_train)\n",
    "\n",
    "# Previsões com o melhor estimador\n",
    "grid_predictionRFC = grid_searchRFC.predict(X_test)\n",
    "\n",
    "# Exibir o melhor estimador\n",
    "print(\"Best estimator: \", grid_searchRFC.best_estimator_)\n",
    "print(classification_report(y_test, grid_predictionRFC))\n",
    "ConfusionMatrixDisplay.from_predictions(y_test, grid_predictionRFC)\n",
    "\n",
    "plt.show()"
   ]
  },
  {
   "cell_type": "markdown",
   "id": "051bce4f-0db7-4846-9fa5-e8c8712beeb7",
   "metadata": {},
   "source": [
    "## Random Forest Classifier"
   ]
  },
  {
   "cell_type": "code",
   "execution_count": 17,
   "id": "246613ca-cab0-40d2-9bda-2301b8d3b588",
   "metadata": {},
   "outputs": [],
   "source": [
    "from sklearn.ensemble import RandomForestClassifier\n",
    "dtc = RandomForestClassifier(random_state=2023)  # RFC1\n",
    "\n",
    "#RFC RandomForestClassifier(bootstrap=False, max_leaf_nodes=10, min_samples_leaf=5,min_samples_split=25, random_state=2023)\n",
    "\n",
    "dtc.fit(X_treino, y_treino)\n",
    "predictionDTC = dtc.predict(X_teste)"
   ]
  },
  {
   "cell_type": "code",
   "execution_count": 18,
   "id": "9c01f407-2044-4300-851f-c1476659ccf1",
   "metadata": {},
   "outputs": [],
   "source": [
    "with open('results_RFC.csv', 'w') as results:\n",
    "    results.write('RowId,Result\\n')\n",
    "    i = 1\n",
    "    for p in predictionDTC:\n",
    "        results.write(f'{i},{p}\\n')\n",
    "        i+=1"
   ]
  }
 ],
 "metadata": {
  "kernelspec": {
   "display_name": "Python 3 (ipykernel)",
   "language": "python",
   "name": "python3"
  },
  "language_info": {
   "codemirror_mode": {
    "name": "ipython",
    "version": 3
   },
   "file_extension": ".py",
   "mimetype": "text/x-python",
   "name": "python",
   "nbconvert_exporter": "python",
   "pygments_lexer": "ipython3",
   "version": "3.12.4"
  }
 },
 "nbformat": 4,
 "nbformat_minor": 5
}
