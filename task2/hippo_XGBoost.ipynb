{
 "cells": [
  {
   "cell_type": "markdown",
   "id": "4191fa8b-b877-42ac-be8b-4c5af51a6670",
   "metadata": {},
   "source": [
    "# Tarefa 2 - XGBoosting Classifier para o Hippocampus"
   ]
  },
  {
   "cell_type": "code",
   "execution_count": 1,
   "id": "1539f5ce-d791-4223-bb4a-7925d305a924",
   "metadata": {},
   "outputs": [],
   "source": [
    "import pandas as pd\n",
    "import numpy as np\n",
    "import matplotlib.pyplot as plt\n",
    "import seaborn as sns\n",
    "%matplotlib inline\n",
    "import os\n",
    "import random"
   ]
  },
  {
   "cell_type": "code",
   "execution_count": 2,
   "id": "856e716b-9459-43f9-bb7e-98c7943ae7e0",
   "metadata": {},
   "outputs": [],
   "source": [
    "def set_seed(seed: int):\n",
    "    random.seed(seed) # Python\n",
    "    np.random.seed(seed)  # Numpy, é o gerador utilizado pelo sklearn\n",
    "    os.environ[\"PYTHONHASHSEED\"] = str(seed)  # sistema operativo\n",
    "\n",
    "# Fixar a seed\n",
    "set_seed(2023)"
   ]
  },
  {
   "cell_type": "code",
   "execution_count": 3,
   "id": "b4b065b5-d10e-4969-806e-d842645710ea",
   "metadata": {},
   "outputs": [],
   "source": [
    "data_treino = pd.read_csv('./data_mod_hippo/dataset_treino.csv', na_filter=False)\n",
    "data_teste = pd.read_csv('./data_mod_hippo/dataset_teste.csv', na_filter=False)"
   ]
  },
  {
   "cell_type": "code",
   "execution_count": 4,
   "id": "8c6de2fc-125d-4783-ae27-5479ded1e7e1",
   "metadata": {},
   "outputs": [
    {
     "name": "stdout",
     "output_type": "stream",
     "text": [
      "<class 'pandas.core.frame.DataFrame'>\n",
      "RangeIndex: 305 entries, 0 to 304\n",
      "Columns: 1911 entries, diagnostics_Image-original_Mean to com_z\n",
      "dtypes: float64(1892), int64(18), object(1)\n",
      "memory usage: 4.4+ MB\n"
     ]
    }
   ],
   "source": [
    "data_treino.info()"
   ]
  },
  {
   "cell_type": "code",
   "execution_count": 5,
   "id": "6f01514e-9ccd-42a9-8866-1831cda6943c",
   "metadata": {},
   "outputs": [
    {
     "name": "stdout",
     "output_type": "stream",
     "text": [
      "<class 'pandas.core.frame.DataFrame'>\n",
      "RangeIndex: 100 entries, 0 to 99\n",
      "Columns: 1910 entries, diagnostics_Image-original_Mean to com_z\n",
      "dtypes: float64(1889), int64(21)\n",
      "memory usage: 1.5 MB\n"
     ]
    }
   ],
   "source": [
    "data_teste.info()"
   ]
  },
  {
   "cell_type": "markdown",
   "id": "cee6056f-3ae0-40bc-adf7-97e57dd943ca",
   "metadata": {},
   "source": [
    "## Conversão de dados do tipo 64 para 32"
   ]
  },
  {
   "cell_type": "code",
   "execution_count": 6,
   "id": "81216ce3-b074-492b-8b35-c093f5516bf2",
   "metadata": {},
   "outputs": [
    {
     "name": "stdout",
     "output_type": "stream",
     "text": [
      "<class 'pandas.core.frame.DataFrame'>\n",
      "RangeIndex: 305 entries, 0 to 304\n",
      "Columns: 1911 entries, diagnostics_Image-original_Mean to com_z\n",
      "dtypes: float32(1892), int32(18), object(1)\n",
      "memory usage: 2.2+ MB\n"
     ]
    }
   ],
   "source": [
    "float_features = data_treino.select_dtypes(include='float')\n",
    "int_features = data_treino.select_dtypes(include='int')\n",
    "\n",
    "data_treino[float_features.columns] = data_treino[float_features.columns].astype(np.float32)\n",
    "data_treino[int_features.columns] = data_treino[int_features.columns].astype(np.int32)\n",
    "data_treino.info()"
   ]
  },
  {
   "cell_type": "code",
   "execution_count": 7,
   "id": "6e37e06a-5bdb-48d7-9021-167bba267d24",
   "metadata": {},
   "outputs": [
    {
     "name": "stdout",
     "output_type": "stream",
     "text": [
      "<class 'pandas.core.frame.DataFrame'>\n",
      "RangeIndex: 100 entries, 0 to 99\n",
      "Columns: 1910 entries, diagnostics_Image-original_Mean to com_z\n",
      "dtypes: float32(1889), int32(21)\n",
      "memory usage: 746.2 KB\n"
     ]
    }
   ],
   "source": [
    "float_features = data_teste.select_dtypes(include='float')\n",
    "int_features = data_teste.select_dtypes(include='int')\n",
    "\n",
    "data_teste[float_features.columns] = data_teste[float_features.columns].astype(np.float32)\n",
    "data_teste[int_features.columns] = data_teste[int_features.columns].astype(np.int32)\n",
    "data_teste.info()"
   ]
  },
  {
   "cell_type": "markdown",
   "id": "072c7bb9-2aba-4fe3-8c71-a0804de7d04f",
   "metadata": {},
   "source": [
    "## Normalização de Dados"
   ]
  },
  {
   "cell_type": "code",
   "execution_count": 8,
   "id": "870ba699-b4cf-4a77-8da0-cf2d63540074",
   "metadata": {},
   "outputs": [
    {
     "data": {
      "text/html": [
       "<div>\n",
       "<style scoped>\n",
       "    .dataframe tbody tr th:only-of-type {\n",
       "        vertical-align: middle;\n",
       "    }\n",
       "\n",
       "    .dataframe tbody tr th {\n",
       "        vertical-align: top;\n",
       "    }\n",
       "\n",
       "    .dataframe thead th {\n",
       "        text-align: right;\n",
       "    }\n",
       "</style>\n",
       "<table border=\"1\" class=\"dataframe\">\n",
       "  <thead>\n",
       "    <tr style=\"text-align: right;\">\n",
       "      <th></th>\n",
       "      <th>diagnostics_Image-original_Mean</th>\n",
       "      <th>diagnostics_Image-original_Maximum</th>\n",
       "      <th>diagnostics_Mask-original_VoxelNum</th>\n",
       "      <th>original_shape_Elongation</th>\n",
       "      <th>original_shape_Flatness</th>\n",
       "      <th>original_shape_LeastAxisLength</th>\n",
       "      <th>original_shape_MajorAxisLength</th>\n",
       "      <th>original_shape_Maximum2DDiameterColumn</th>\n",
       "      <th>original_shape_Maximum2DDiameterRow</th>\n",
       "      <th>original_shape_Maximum2DDiameterSlice</th>\n",
       "      <th>...</th>\n",
       "      <th>bbox_x1</th>\n",
       "      <th>bbox_y1</th>\n",
       "      <th>bbox_x2</th>\n",
       "      <th>bbox_y2</th>\n",
       "      <th>bbox_x3</th>\n",
       "      <th>bbox_y3</th>\n",
       "      <th>com_x</th>\n",
       "      <th>com_y</th>\n",
       "      <th>com_z</th>\n",
       "      <th>Transition</th>\n",
       "    </tr>\n",
       "  </thead>\n",
       "  <tbody>\n",
       "    <tr>\n",
       "      <th>0</th>\n",
       "      <td>0.468027</td>\n",
       "      <td>0.393701</td>\n",
       "      <td>0.598392</td>\n",
       "      <td>0.555087</td>\n",
       "      <td>0.455539</td>\n",
       "      <td>0.392720</td>\n",
       "      <td>0.289560</td>\n",
       "      <td>0.310620</td>\n",
       "      <td>0.254940</td>\n",
       "      <td>0.562431</td>\n",
       "      <td>...</td>\n",
       "      <td>0.769231</td>\n",
       "      <td>0.269841</td>\n",
       "      <td>0.571429</td>\n",
       "      <td>0.263158</td>\n",
       "      <td>0.68</td>\n",
       "      <td>0.250000</td>\n",
       "      <td>0.723281</td>\n",
       "      <td>0.308972</td>\n",
       "      <td>0.578513</td>\n",
       "      <td>CN-CN</td>\n",
       "    </tr>\n",
       "    <tr>\n",
       "      <th>1</th>\n",
       "      <td>0.281221</td>\n",
       "      <td>0.488189</td>\n",
       "      <td>0.713552</td>\n",
       "      <td>0.588970</td>\n",
       "      <td>0.397306</td>\n",
       "      <td>0.338081</td>\n",
       "      <td>0.311579</td>\n",
       "      <td>0.359443</td>\n",
       "      <td>0.335667</td>\n",
       "      <td>0.619620</td>\n",
       "      <td>...</td>\n",
       "      <td>0.205128</td>\n",
       "      <td>0.492063</td>\n",
       "      <td>0.571429</td>\n",
       "      <td>0.842105</td>\n",
       "      <td>0.12</td>\n",
       "      <td>0.333333</td>\n",
       "      <td>0.276666</td>\n",
       "      <td>0.419646</td>\n",
       "      <td>0.571849</td>\n",
       "      <td>CN-CN</td>\n",
       "    </tr>\n",
       "    <tr>\n",
       "      <th>2</th>\n",
       "      <td>0.764980</td>\n",
       "      <td>0.212598</td>\n",
       "      <td>0.530116</td>\n",
       "      <td>0.727218</td>\n",
       "      <td>0.876712</td>\n",
       "      <td>1.000000</td>\n",
       "      <td>0.431089</td>\n",
       "      <td>0.622046</td>\n",
       "      <td>0.583960</td>\n",
       "      <td>0.932585</td>\n",
       "      <td>...</td>\n",
       "      <td>0.102564</td>\n",
       "      <td>0.365079</td>\n",
       "      <td>0.285714</td>\n",
       "      <td>0.947368</td>\n",
       "      <td>0.68</td>\n",
       "      <td>0.666667</td>\n",
       "      <td>0.165689</td>\n",
       "      <td>0.419660</td>\n",
       "      <td>0.608489</td>\n",
       "      <td>AD-AD</td>\n",
       "    </tr>\n",
       "    <tr>\n",
       "      <th>3</th>\n",
       "      <td>0.651078</td>\n",
       "      <td>0.338583</td>\n",
       "      <td>0.799452</td>\n",
       "      <td>0.547963</td>\n",
       "      <td>0.355153</td>\n",
       "      <td>0.372946</td>\n",
       "      <td>0.453707</td>\n",
       "      <td>0.555160</td>\n",
       "      <td>0.498358</td>\n",
       "      <td>0.760667</td>\n",
       "      <td>...</td>\n",
       "      <td>0.512821</td>\n",
       "      <td>0.095238</td>\n",
       "      <td>0.357143</td>\n",
       "      <td>0.526316</td>\n",
       "      <td>0.64</td>\n",
       "      <td>0.541667</td>\n",
       "      <td>0.553885</td>\n",
       "      <td>0.113744</td>\n",
       "      <td>0.625148</td>\n",
       "      <td>CN-MCI</td>\n",
       "    </tr>\n",
       "    <tr>\n",
       "      <th>4</th>\n",
       "      <td>0.382225</td>\n",
       "      <td>0.173228</td>\n",
       "      <td>0.406742</td>\n",
       "      <td>0.504096</td>\n",
       "      <td>0.080905</td>\n",
       "      <td>0.078060</td>\n",
       "      <td>0.545945</td>\n",
       "      <td>0.447539</td>\n",
       "      <td>0.424594</td>\n",
       "      <td>0.566272</td>\n",
       "      <td>...</td>\n",
       "      <td>0.358974</td>\n",
       "      <td>0.365079</td>\n",
       "      <td>0.428571</td>\n",
       "      <td>0.473684</td>\n",
       "      <td>0.56</td>\n",
       "      <td>0.416667</td>\n",
       "      <td>0.312799</td>\n",
       "      <td>0.360217</td>\n",
       "      <td>0.540829</td>\n",
       "      <td>CN-CN</td>\n",
       "    </tr>\n",
       "  </tbody>\n",
       "</table>\n",
       "<p>5 rows × 1911 columns</p>\n",
       "</div>"
      ],
      "text/plain": [
       "   diagnostics_Image-original_Mean  diagnostics_Image-original_Maximum  \\\n",
       "0                         0.468027                            0.393701   \n",
       "1                         0.281221                            0.488189   \n",
       "2                         0.764980                            0.212598   \n",
       "3                         0.651078                            0.338583   \n",
       "4                         0.382225                            0.173228   \n",
       "\n",
       "   diagnostics_Mask-original_VoxelNum  original_shape_Elongation  \\\n",
       "0                            0.598392                   0.555087   \n",
       "1                            0.713552                   0.588970   \n",
       "2                            0.530116                   0.727218   \n",
       "3                            0.799452                   0.547963   \n",
       "4                            0.406742                   0.504096   \n",
       "\n",
       "   original_shape_Flatness  original_shape_LeastAxisLength  \\\n",
       "0                 0.455539                        0.392720   \n",
       "1                 0.397306                        0.338081   \n",
       "2                 0.876712                        1.000000   \n",
       "3                 0.355153                        0.372946   \n",
       "4                 0.080905                        0.078060   \n",
       "\n",
       "   original_shape_MajorAxisLength  original_shape_Maximum2DDiameterColumn  \\\n",
       "0                        0.289560                                0.310620   \n",
       "1                        0.311579                                0.359443   \n",
       "2                        0.431089                                0.622046   \n",
       "3                        0.453707                                0.555160   \n",
       "4                        0.545945                                0.447539   \n",
       "\n",
       "   original_shape_Maximum2DDiameterRow  original_shape_Maximum2DDiameterSlice  \\\n",
       "0                             0.254940                               0.562431   \n",
       "1                             0.335667                               0.619620   \n",
       "2                             0.583960                               0.932585   \n",
       "3                             0.498358                               0.760667   \n",
       "4                             0.424594                               0.566272   \n",
       "\n",
       "   ...   bbox_x1   bbox_y1   bbox_x2   bbox_y2  bbox_x3   bbox_y3     com_x  \\\n",
       "0  ...  0.769231  0.269841  0.571429  0.263158     0.68  0.250000  0.723281   \n",
       "1  ...  0.205128  0.492063  0.571429  0.842105     0.12  0.333333  0.276666   \n",
       "2  ...  0.102564  0.365079  0.285714  0.947368     0.68  0.666667  0.165689   \n",
       "3  ...  0.512821  0.095238  0.357143  0.526316     0.64  0.541667  0.553885   \n",
       "4  ...  0.358974  0.365079  0.428571  0.473684     0.56  0.416667  0.312799   \n",
       "\n",
       "      com_y     com_z  Transition  \n",
       "0  0.308972  0.578513       CN-CN  \n",
       "1  0.419646  0.571849       CN-CN  \n",
       "2  0.419660  0.608489       AD-AD  \n",
       "3  0.113744  0.625148      CN-MCI  \n",
       "4  0.360217  0.540829       CN-CN  \n",
       "\n",
       "[5 rows x 1911 columns]"
      ]
     },
     "execution_count": 8,
     "metadata": {},
     "output_type": "execute_result"
    }
   ],
   "source": [
    "from sklearn.preprocessing import MinMaxScaler\n",
    "data_treino_normalize = data_treino.copy()\n",
    "data_teste_normalize = data_teste.copy()\n",
    "\n",
    "X_scale = data_treino_normalize.drop(columns=['Transition'])\n",
    "\n",
    "scaler_X = MinMaxScaler(feature_range=(0,1)).fit(X_scale)\n",
    "scaler_y = MinMaxScaler(feature_range=(0,1)).fit(data_teste_normalize)\n",
    "X_scale = pd.DataFrame(scaler_X.transform(X_scale[X_scale.columns]), columns=X_scale.columns)\n",
    "data_teste_normalize = pd.DataFrame(scaler_y.transform(data_teste_normalize[data_teste_normalize.columns]), columns=data_teste_normalize.columns)\n",
    "\n",
    "data_treino_normalize = pd.concat([X_scale, data_treino_normalize['Transition']], axis=1)\n",
    "\n",
    "data_treino_normalize.head()"
   ]
  },
  {
   "cell_type": "markdown",
   "id": "3c4fd0ca-a20e-4f3d-a7c7-577d0c6b1346",
   "metadata": {},
   "source": [
    "## Conversão de dados do tipo 64 para 32 depois da normalização"
   ]
  },
  {
   "cell_type": "code",
   "execution_count": 9,
   "id": "85bf8bc6-38bf-43d0-a862-cc4270bc500a",
   "metadata": {},
   "outputs": [
    {
     "name": "stdout",
     "output_type": "stream",
     "text": [
      "<class 'pandas.core.frame.DataFrame'>\n",
      "RangeIndex: 305 entries, 0 to 304\n",
      "Columns: 1911 entries, diagnostics_Image-original_Mean to Transition\n",
      "dtypes: float32(1910), object(1)\n",
      "memory usage: 2.2+ MB\n"
     ]
    }
   ],
   "source": [
    "float_features = data_treino_normalize.select_dtypes(include='float')\n",
    "int_features = data_treino_normalize.select_dtypes(include='int')\n",
    "\n",
    "data_treino_normalize[float_features.columns] = data_treino_normalize[float_features.columns].astype(np.float32)\n",
    "data_treino_normalize[int_features.columns] = data_treino_normalize[int_features.columns].astype(np.int32)\n",
    "data_treino_normalize.info()"
   ]
  },
  {
   "cell_type": "code",
   "execution_count": 10,
   "id": "ff16e791-fa16-4599-bb49-a9d13846d1eb",
   "metadata": {},
   "outputs": [
    {
     "name": "stdout",
     "output_type": "stream",
     "text": [
      "<class 'pandas.core.frame.DataFrame'>\n",
      "RangeIndex: 100 entries, 0 to 99\n",
      "Columns: 1910 entries, diagnostics_Image-original_Mean to com_z\n",
      "dtypes: float32(1910)\n",
      "memory usage: 746.2 KB\n"
     ]
    }
   ],
   "source": [
    "float_features = data_teste_normalize.select_dtypes(include='float')\n",
    "int_features = data_teste_normalize.select_dtypes(include='int')\n",
    "\n",
    "data_teste_normalize[float_features.columns] = data_teste_normalize[float_features.columns].astype(np.float32)\n",
    "data_teste_normalize[int_features.columns] = data_teste_normalize[int_features.columns].astype(np.int32)\n",
    "data_teste_normalize.info()"
   ]
  },
  {
   "cell_type": "markdown",
   "id": "fa9ded0b-a4f5-4750-9337-c61b76786fc0",
   "metadata": {},
   "source": [
    "## Split dos Dados"
   ]
  },
  {
   "cell_type": "code",
   "execution_count": 11,
   "id": "bcdb80df-e182-421d-88dc-bd6de48bde0a",
   "metadata": {},
   "outputs": [],
   "source": [
    "from sklearn.model_selection import train_test_split\n",
    "\n",
    "X_treino = data_treino.drop(columns=['Transition'])\n",
    "y_treino = data_treino['Transition']\n",
    "\n",
    "X_teste = data_teste\n",
    "\n",
    "X_train, X_test, y_train, y_test = train_test_split(X_treino, y_treino, test_size=0.2, random_state=2023)\n",
    "\n",
    "X_treino_normalize = data_treino_normalize.drop(columns=['Transition'])\n",
    "y_treino_normalize = data_treino_normalize['Transition']\n",
    "\n",
    "X_teste_normalize = data_teste_normalize\n",
    "\n",
    "X_train_normalize, X_test_normalize, y_train_normalize, y_test_normalize = train_test_split(X_treino_normalize, y_treino_normalize, test_size=0.2, random_state=2023)"
   ]
  },
  {
   "cell_type": "markdown",
   "id": "c11df375-5ba0-4cf7-940a-abe7276d3499",
   "metadata": {},
   "source": [
    "## Feature Selection"
   ]
  },
  {
   "cell_type": "code",
   "execution_count": 12,
   "id": "2cd4fa05-af0e-4e60-8927-c0e5062dcc35",
   "metadata": {},
   "outputs": [
    {
     "data": {
      "image/png": "[encoded data removed]",
      "text/plain": [
       "<Figure size 640x480 with 1 Axes>"
      ]
     },
     "metadata": {},
     "output_type": "display_data"
    },
    {
     "name": "stdout",
     "output_type": "stream",
     "text": [
      "Features com importância MDI - 0: 1850\n"
     ]
    },
    {
     "data": {
      "image/png": "[encoded data removed]",
      "text/plain": [
       "<Figure size 640x480 with 1 Axes>"
      ]
     },
     "metadata": {},
     "output_type": "display_data"
    },
    {
     "name": "stdout",
     "output_type": "stream",
     "text": [
      "Features com importância Permutation - 0: 1850\n"
     ]
    },
    {
     "data": {
      "image/png": "[encoded data removed]",
      "text/plain": [
       "<Figure size 640x480 with 1 Axes>"
      ]
     },
     "metadata": {},
     "output_type": "display_data"
    },
    {
     "name": "stdout",
     "output_type": "stream",
     "text": [
      "Features com importância SHAP - 0: 1862\n",
      "Features a serem removidas (comuns a todas as abordagens): 1802\n"
     ]
    }
   ],
   "source": [
    "import shap\n",
    "from sklearn.tree import DecisionTreeClassifier\n",
    "from sklearn.inspection import permutation_importance\n",
    "import matplotlib.pyplot as plt\n",
    "\n",
    "model = DecisionTreeClassifier(random_state=2023)\n",
    "model.fit(X_treino, y_treino)\n",
    "\n",
    "### 1. Feature Importance baseado em Mean Decrease in Impurity (MDI)\n",
    "mdi_importances = model.feature_importances_\n",
    "\n",
    "plt.hist(mdi_importances, bins=6, range=(0, max(mdi_importances)), color='green', alpha=0.7)\n",
    "plt.xlabel(\"Feature Importance\")\n",
    "plt.ylabel(\"Frequency\")\n",
    "plt.title(\"Zoomed Distribution of Feature Importances (MDI)\")\n",
    "plt.show()\n",
    "\n",
    "# Identificar features com importância MDI menor ou igual ao limite\n",
    "mdi_threshold = 0\n",
    "features_mdi = [feature for feature, importance in zip(X_treino.columns, mdi_importances) if importance == mdi_threshold]\n",
    "print(f\"Features com importância MDI - {mdi_threshold}: {len(features_mdi)}\")\n",
    "\n",
    "### 2. Feature Importance baseado em Permutation Importance\n",
    "perm_importance = permutation_importance(model, X_treino, y_treino, n_repeats=5, random_state=2023, n_jobs = -1)\n",
    "perm_importances = perm_importance.importances_mean\n",
    "\n",
    "plt.hist(perm_importances, bins=6, range=(0, max(perm_importances)), color='orange', alpha=0.7)\n",
    "plt.xlabel(\"Feature Importance\")\n",
    "plt.ylabel(\"Frequency\")\n",
    "plt.title(\"Zoomed Distribution of Feature Importances (Permutation Importance)\")\n",
    "plt.show()\n",
    "\n",
    "# Identificar features com importância de Permutation menor ou igual ao limite\n",
    "perm_threshold = 0\n",
    "features_perm = [feature for feature, importance in zip(X_treino.columns, perm_importances) if importance == perm_threshold]\n",
    "print(f\"Features com importância Permutation - {perm_threshold}: {len(features_perm)}\")\n",
    "\n",
    "### 3. Feature Importance baseado em SHAP\n",
    "# Criar valores SHAP para o modelo\n",
    "explainer = shap.TreeExplainer(model, X_treino)\n",
    "shap_values = explainer(X_treino, check_additivity=False)\n",
    "\n",
    "# Calcular a média dos valores absolutos de SHAP para cada feature\n",
    "shap_importances = np.abs(shap_values.values).mean(axis=0)\n",
    "\n",
    "# Garantir que shap_importances seja uma lista ou array unidimensional\n",
    "shap_importances = np.array(shap_importances).flatten()\n",
    "\n",
    "plt.hist(shap_importances, bins=6, range=(0, max(shap_importances)), color='cyan', alpha=0.7)\n",
    "plt.xlabel(\"SHAP Importance\")\n",
    "plt.ylabel(\"Frequency\")\n",
    "plt.title(\"Zoomed Distribution of Feature Importances (SHAP)\")\n",
    "plt.show()\n",
    "\n",
    "# Identificar features com importância SHAP menor ou igual ao limite\n",
    "shap_threshold = 0\n",
    "features_shap = [feature for feature, importance in zip(X_treino.columns, shap_importances) if importance == shap_threshold]\n",
    "print(f\"Features com importância SHAP - {shap_threshold}: {len(features_shap)}\")\n",
    "\n",
    "### 4. Combinação de todas as abordagenspermutat\n",
    "features_to_drop = list(\n",
    "    set(features_mdi).intersection(set(features_perm)).intersection(set(features_shap))\n",
    ")\n",
    "print(f\"Features a serem removidas (comuns a todas as abordagens): {len(features_to_drop)}\")"
   ]
  },
  {
   "cell_type": "code",
   "execution_count": 13,
   "id": "aed0e60d-e59f-421f-a0c3-1937b72156d3",
   "metadata": {},
   "outputs": [
    {
     "name": "stdout",
     "output_type": "stream",
     "text": [
      "Conjunto de treino reduzido: (305, 108)\n",
      "Conjunto de teste reduzido: (100, 108)\n",
      "Conjunto de treino reduzido: (305, 108)\n",
      "Conjunto de teste reduzido: (100, 108)\n"
     ]
    }
   ],
   "source": [
    "### Remover as features identificadas\n",
    "X_train = X_train.drop(columns=features_to_drop)\n",
    "X_test = X_test.drop(columns=features_to_drop)\n",
    "X_treino = X_treino.drop(columns=features_to_drop)\n",
    "X_teste = X_teste.drop(columns=features_to_drop)\n",
    "\n",
    "X_train_normalize = X_train_normalize.drop(columns=features_to_drop)\n",
    "X_test_normalize = X_test_normalize.drop(columns=features_to_drop)\n",
    "X_treino_normalize = X_treino_normalize.drop(columns=features_to_drop)\n",
    "X_teste_normalize = X_teste_normalize.drop(columns=features_to_drop)\n",
    "\n",
    "print(f\"Conjunto de treino reduzido: {X_treino.shape}\")\n",
    "print(f\"Conjunto de teste reduzido: {X_teste.shape}\")\n",
    "print(f\"Conjunto de treino reduzido: {X_treino_normalize.shape}\")\n",
    "print(f\"Conjunto de teste reduzido: {X_teste_normalize.shape}\")"
   ]
  },
  {
   "cell_type": "markdown",
   "id": "78588e31-c561-4c9f-ae88-9a0dd5f47504",
   "metadata": {},
   "source": [
    "## Grid Search"
   ]
  },
  {
   "cell_type": "code",
   "execution_count": 14,
   "id": "1499bdf0-caf1-4a54-bad6-32d924d2cfb5",
   "metadata": {},
   "outputs": [
    {
     "name": "stdout",
     "output_type": "stream",
     "text": [
      "Fitting 3 folds for each of 1 candidates, totalling 3 fits\n",
      "[CV 1/3] END colsample_bytree=1.0, gamma=0.3, learning_rate=0.01, max_depth=3, min_child_weight=1, n_estimators=600;, score=0.375 total time=  11.9s\n",
      "[CV 2/3] END colsample_bytree=1.0, gamma=0.3, learning_rate=0.01, max_depth=3, min_child_weight=1, n_estimators=600;, score=0.296 total time=   5.0s\n",
      "[CV 3/3] END colsample_bytree=1.0, gamma=0.3, learning_rate=0.01, max_depth=3, min_child_weight=1, n_estimators=600;, score=0.409 total time=   2.9s\n",
      "Best estimator:  XGBClassifier(base_score=None, booster=None, callbacks=None,\n",
      "              colsample_bylevel=None, colsample_bynode=None,\n",
      "              colsample_bytree=1.0, device=None, early_stopping_rounds=None,\n",
      "              enable_categorical=False, eval_metric=None, feature_types=None,\n",
      "              gamma=0.3, grow_policy=None, importance_type=None,\n",
      "              interaction_constraints=None, learning_rate=0.01, max_bin=None,\n",
      "              max_cat_threshold=None, max_cat_to_onehot=None,\n",
      "              max_delta_step=None, max_depth=3, max_leaves=None,\n",
      "              min_child_weight=1, missing=nan, monotone_constraints=None,\n",
      "              multi_strategy=None, n_estimators=600, n_jobs=None,\n",
      "              num_parallel_tree=None, objective='multi:softprob', ...)\n",
      "              precision    recall  f1-score   support\n",
      "\n",
      "           0       0.56      0.36      0.43        14\n",
      "           1       0.68      0.68      0.68        19\n",
      "           2       0.00      0.00      0.00         1\n",
      "           3       0.28      0.45      0.34        11\n",
      "           4       0.40      0.38      0.39        16\n",
      "\n",
      "    accuracy                           0.48        61\n",
      "   macro avg       0.38      0.37      0.37        61\n",
      "weighted avg       0.50      0.48      0.48        61\n",
      "\n"
     ]
    },
    {
     "name": "stderr",
     "output_type": "stream",
     "text": [
      "/home/dbarr0s/miniconda3/envs/DAA/lib/python3.12/site-packages/sklearn/metrics/_classification.py:1531: UndefinedMetricWarning: Precision is ill-defined and being set to 0.0 in labels with no predicted samples. Use `zero_division` parameter to control this behavior.\n",
      "  _warn_prf(average, modifier, f\"{metric.capitalize()} is\", len(result))\n",
      "/home/dbarr0s/miniconda3/envs/DAA/lib/python3.12/site-packages/sklearn/metrics/_classification.py:1531: UndefinedMetricWarning: Precision is ill-defined and being set to 0.0 in labels with no predicted samples. Use `zero_division` parameter to control this behavior.\n",
      "  _warn_prf(average, modifier, f\"{metric.capitalize()} is\", len(result))\n",
      "/home/dbarr0s/miniconda3/envs/DAA/lib/python3.12/site-packages/sklearn/metrics/_classification.py:1531: UndefinedMetricWarning: Precision is ill-defined and being set to 0.0 in labels with no predicted samples. Use `zero_division` parameter to control this behavior.\n",
      "  _warn_prf(average, modifier, f\"{metric.capitalize()} is\", len(result))\n"
     ]
    },
    {
     "data": {
      "image/png": "[encoded data removed]",
      "text/plain": [
       "<Figure size 640x480 with 2 Axes>"
      ]
     },
     "metadata": {},
     "output_type": "display_data"
    }
   ],
   "source": [
    "from xgboost import XGBClassifier\n",
    "from sklearn.model_selection import GridSearchCV\n",
    "from sklearn.metrics import classification_report, ConfusionMatrixDisplay\n",
    "from sklearn.preprocessing import LabelEncoder\n",
    "\n",
    "# Codifique as classes em y_treino e y_teste\n",
    "label_encoder = LabelEncoder()\n",
    "y_train_encoded = label_encoder.fit_transform(y_train)\n",
    "y_test_encoded = label_encoder.transform(y_test)\n",
    "\n",
    "xgb = XGBClassifier(random_state=2023)\n",
    "\n",
    "param_grid = {\n",
    "    'learning_rate': [0.01],\n",
    "    'n_estimators': [600], \n",
    "    'max_depth': [3], \n",
    "    'gamma': [0.3], \n",
    "    'min_child_weight': [1],\n",
    "    'colsample_bytree': [1.0],\n",
    "}\n",
    "\n",
    "\n",
    "grid_searchXGB = GridSearchCV(xgb, param_grid, cv=3, refit=True, verbose=3, scoring = 'f1_macro')\n",
    "grid_searchXGB.fit(X_train, y_train_encoded)\n",
    "grid_predictionXGB = grid_searchXGB.predict(X_test)\n",
    "\n",
    "# Resultados\n",
    "print(\"Best estimator: \", grid_searchXGB.best_estimator_)\n",
    "XGB_best = grid_searchXGB.best_estimator_\n",
    "\n",
    "print(classification_report(y_test_encoded, grid_predictionXGB))\n",
    "ConfusionMatrixDisplay.from_predictions(y_test_encoded, grid_predictionXGB)\n",
    "plt.show()"
   ]
  },
  {
   "cell_type": "markdown",
   "id": "051bce4f-0db7-4846-9fa5-e8c8712beeb7",
   "metadata": {},
   "source": [
    "## XGBoosting Classifier"
   ]
  },
  {
   "cell_type": "code",
   "execution_count": 15,
   "id": "a4764235-f650-4bb8-84eb-1c8e8d62dc50",
   "metadata": {},
   "outputs": [],
   "source": [
    "from xgboost import XGBClassifier\n",
    "\n",
    "label_encoder = LabelEncoder()\n",
    "y_treino_encoded = label_encoder.fit_transform(y_treino)\n",
    "\n",
    "XGB_best.fit(X_treino, y_treino_encoded)\n",
    "predictionXGB = XGB_best.predict(X_teste)\n",
    "\n",
    "predictionXGB = label_encoder.inverse_transform(predictionXGB)"
   ]
  },
  {
   "cell_type": "code",
   "execution_count": 16,
   "id": "4e2a4475-477e-4761-b1fc-f0a76c9c1a21",
   "metadata": {},
   "outputs": [],
   "source": [
    "with open('results_XGB.csv', 'w') as results:\n",
    "    results.write('RowId,Result\\n')\n",
    "    i = 1\n",
    "    for p in predictionXGB:\n",
    "        results.write(f'{i},{p}\\n')\n",
    "        i+=1"
   ]
  }
 ],
 "metadata": {
  "kernelspec": {
   "display_name": "Python 3 (ipykernel)",
   "language": "python",
   "name": "python3"
  },
  "language_info": {
   "codemirror_mode": {
    "name": "ipython",
    "version": 3
   },
   "file_extension": ".py",
   "mimetype": "text/x-python",
   "name": "python",
   "nbconvert_exporter": "python",
   "pygments_lexer": "ipython3",
   "version": "3.12.4"
  }
 },
 "nbformat": 4,
 "nbformat_minor": 5
}
